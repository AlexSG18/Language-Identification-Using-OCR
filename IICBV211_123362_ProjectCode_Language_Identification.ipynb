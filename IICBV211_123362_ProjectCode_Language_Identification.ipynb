{
  "nbformat": 4,
  "nbformat_minor": 0,
  "metadata": {
    "colab": {
      "name": "IICBV211-123362-ProjectCode_Language_Identification.ipynb",
      "provenance": [],
      "collapsed_sections": [],
      "toc_visible": true
    },
    "kernelspec": {
      "name": "python3",
      "display_name": "Python 3"
    }
  },
  "cells": [
    {
      "cell_type": "markdown",
      "metadata": {
        "id": "6yZ1-rJ7fVgO"
      },
      "source": [
        "# ICBV-211 Final Project - Language Identification Using OCR"
      ]
    },
    {
      "cell_type": "markdown",
      "metadata": {
        "id": "4WVLv0ZAfeVw"
      },
      "source": [
        "\r\n",
        "\r\n",
        ""
      ]
    },
    {
      "cell_type": "code",
      "metadata": {
        "id": "9tZ-Yf5LvG2k"
      },
      "source": [
        "# Imports\r\n",
        "import cv2\r\n",
        "import os\r\n",
        "%matplotlib inline\r\n",
        "import matplotlib.pyplot as plt\r\n",
        "import numpy as np\r\n",
        "from skimage.morphology import skeletonize\r\n",
        "from skimage.transform import resize\r\n",
        "from sklearn.model_selection import StratifiedShuffleSplit\r\n",
        "from skimage.io import imread, imshow\r\n",
        "import pandas as pd\r\n",
        "from sklearn.model_selection import train_test_split\r\n",
        "from google.colab.patches import cv2_imshow\r\n",
        "from collections import Counter"
      ],
      "execution_count": 1,
      "outputs": []
    },
    {
      "cell_type": "markdown",
      "metadata": {
        "id": "UYTshvyLlqsS"
      },
      "source": [
        " 1. Mount Drive"
      ]
    },
    {
      "cell_type": "code",
      "metadata": {
        "colab": {
          "base_uri": "https://localhost:8080/"
        },
        "id": "Rt9ssMgd8WqC",
        "outputId": "703c4299-1b95-4cc3-d198-12c770012b9a"
      },
      "source": [
        "# Mount on Google Drive\r\n",
        "from google.colab import drive\r\n",
        "drive.mount('/content/drive')\r\n",
        "\r\n",
        "dataset_path = \"/content/drive/MyDrive/ICBV-211 Course Project/ICBV211-123362-Images_ICBV/ICBV211-123362-DatasetForTrain\"\r\n"
      ],
      "execution_count": 2,
      "outputs": [
        {
          "output_type": "stream",
          "text": [
            "Drive already mounted at /content/drive; to attempt to forcibly remount, call drive.mount(\"/content/drive\", force_remount=True).\n"
          ],
          "name": "stdout"
        }
      ]
    },
    {
      "cell_type": "markdown",
      "metadata": {
        "id": "3Eh1CzNHcWIU"
      },
      "source": [
        "2. **Example**: Here we can change the input image text for detection"
      ]
    },
    {
      "cell_type": "code",
      "metadata": {
        "id": "B3UaWTGucVWv"
      },
      "source": [
        "img_path = 'ICBV211-123362-icelandic31.jpg'# input text for laungene recognition, change to other text to test from ICBV-211 Images_ICBV/english or Images_ICBV/german or Images_ICBV/iceland\r\n",
        "all_combine_path = \"ICBV211-123362-AllSpecialCombine.jpg\"# for test"
      ],
      "execution_count": 3,
      "outputs": []
    },
    {
      "cell_type": "markdown",
      "metadata": {
        "id": "jsA1te8OctSk"
      },
      "source": [
        "## Data Reading"
      ]
    },
    {
      "cell_type": "markdown",
      "metadata": {
        "id": "zL4Tz8lux-G8"
      },
      "source": [
        "Here we read the data from Google Drive. We're using the plt.imread(), and tead the image with 3 channels of colors."
      ]
    },
    {
      "cell_type": "markdown",
      "metadata": {
        "id": "fRClQg5Qy9A5"
      },
      "source": [
        "**Important Note:** \r\n",
        "\r\n",
        "The reading part is based on getting the images in seperate directory for each language. If you change the hierarchy, please keep each language in seperate directory."
      ]
    },
    {
      "cell_type": "code",
      "metadata": {
        "id": "jIZaZAzPBO0k"
      },
      "source": [
        "# Dataset Reading:\r\n",
        "imgs_dict_3chan = {}\r\n",
        "for lan_dir in os.listdir(dataset_path):\r\n",
        "    imgs_dict_3chan[lan_dir] = []\r\n",
        "    for font_dir in os.listdir(dataset_path + \"/\" + lan_dir):\r\n",
        "        for img in os.listdir(dataset_path + \"/\" + lan_dir + \"/\" + font_dir):\r\n",
        "            if \"Full\" not in img:\r\n",
        "                im_path = dataset_path + \"/\" + lan_dir + \"/\" + font_dir\r\n",
        "                imgs_dict_3chan[lan_dir] = imgs_dict_3chan[lan_dir] + [(plt.imread(im_path + \"/\" + img), img.split(\".\")[0])] # Append"
      ],
      "execution_count": 4,
      "outputs": []
    },
    {
      "cell_type": "markdown",
      "metadata": {
        "id": "1fOO95JKcxKL"
      },
      "source": [
        "## Data Preprocess"
      ]
    },
    {
      "cell_type": "markdown",
      "metadata": {
        "id": "kPV-Y6f0yUEn"
      },
      "source": [
        "The dataset contains all the letters in english, the special letters in german and all the special letters in icelandic. Each image from the dataset got a label:\r\n",
        "*   English letters get a label between 100 and 199 (based on the Ascii value).\r\n",
        "*   German letters get a label between 200 and 299\r\n",
        "*   Icelandic letters get a label between 300 and 399\r\n",
        "\r\n",
        "In this section we are also unify the two directories of english letters.\r\n"
      ]
    },
    {
      "cell_type": "code",
      "metadata": {
        "id": "tgngLn9J_4JZ"
      },
      "source": [
        "# Data Preprocess\r\n",
        "eng = \"English\"\r\n",
        "ger = \"German\"\r\n",
        "ice = \"Icelandic\"\r\n",
        "lang_dict = {eng: 100, ger: 200, ice: 300}\r\n",
        "\r\n",
        "img_dict_per_lang = {eng: [], ger: [], ice: []}\r\n",
        "idx_dict_per_lang = {eng: [], ger: [], ice: []}\r\n",
        "for key in imgs_dict_3chan.keys():\r\n",
        "    if eng.lower() in key.lower():\r\n",
        "        img_dict_per_lang[eng] = img_dict_per_lang[eng] + [img[0] for img in imgs_dict_3chan[key]]\r\n",
        "        idx_dict_per_lang[eng] = idx_dict_per_lang[eng] + [img[1] for img in imgs_dict_3chan[key]]\r\n",
        "    elif ger.lower() in key.lower():\r\n",
        "        img_dict_per_lang[ger] = img_dict_per_lang[ger] + [img[0] for img in imgs_dict_3chan[key]]\r\n",
        "        idx_dict_per_lang[ger] = idx_dict_per_lang[ger] + [img[1] for img in imgs_dict_3chan[key]]\r\n",
        "    elif ice.lower() in key.lower():\r\n",
        "        img_dict_per_lang[ice] = img_dict_per_lang[ice] + [img[0] for img in imgs_dict_3chan[key]]\r\n",
        "        idx_dict_per_lang[ice] = idx_dict_per_lang[ice] + [img[1] for img in imgs_dict_3chan[key]]\r\n",
        "    else: # Shouldn't happen\r\n",
        "        print(\"oops\")\r\n",
        "        pass"
      ],
      "execution_count": 5,
      "outputs": []
    },
    {
      "cell_type": "code",
      "metadata": {
        "id": "CvinltVJBASo"
      },
      "source": [
        "# Data Preprocess\r\n",
        "x_data_3chan = []\r\n",
        "y_data_3chan = []\r\n",
        "for key in img_dict_per_lang.keys():\r\n",
        "    if eng.lower() in key.lower():\r\n",
        "        for i in range(len(img_dict_per_lang[key])):\r\n",
        "            img = img_dict_per_lang[key][i]\r\n",
        "            x_data_3chan = x_data_3chan + [img]\r\n",
        "            name = ord(idx_dict_per_lang[key][i][-1])\r\n",
        "            name -= 65\r\n",
        "            y_data_3chan = y_data_3chan + [lang_dict[eng] + name]\r\n",
        "    elif ger.lower() in key.lower():\r\n",
        "       for i in range(len(img_dict_per_lang[key])):\r\n",
        "            img = img_dict_per_lang[key][i]\r\n",
        "            x_data_3chan = x_data_3chan + [img]\r\n",
        "            if idx_dict_per_lang[key][i][-2] in \"0123456789\": \r\n",
        "                name = int(idx_dict_per_lang[key][i][-2:])\r\n",
        "            else:\r\n",
        "                name = int(idx_dict_per_lang[key][i][-1])\r\n",
        "            y_data_3chan = y_data_3chan + [lang_dict[ger] + name]\r\n",
        "    elif ice.lower() in key.lower():\r\n",
        "        for i in range(len(img_dict_per_lang[key])):\r\n",
        "            img = img_dict_per_lang[key][i]\r\n",
        "            x_data_3chan = x_data_3chan + [img]\r\n",
        "            if idx_dict_per_lang[key][i][-2] in \"0123456789\": \r\n",
        "                name = int(idx_dict_per_lang[key][i][-2:])\r\n",
        "            else:\r\n",
        "                name = int(idx_dict_per_lang[key][i][-1])\r\n",
        "            y_data_3chan = y_data_3chan + [lang_dict[ice] + name]\r\n",
        "    else: # Shouldn't happen\r\n",
        "        print(\"oops\")\r\n",
        "        pass"
      ],
      "execution_count": 6,
      "outputs": []
    },
    {
      "cell_type": "code",
      "metadata": {
        "id": "FMbx9ZyXB0fh"
      },
      "source": [
        "# Test\r\n",
        "def test_data(x_data, y_data):\r\n",
        "    print(\"Data Size Summary:\\n\")\r\n",
        "    print(\"x size:\", len(x_data))\r\n",
        "    print(\"y size:\", len(y_data))\r\n",
        "    print(\"English letters:\", len([y for y in y_data if 0 <= y - lang_dict[eng] < 100]))\r\n",
        "    print(\"English labels:\", len({y for y in y_data if 0 <= y - lang_dict[eng] < 100}))\r\n",
        "    print(\"German letters:\", len([y for y in y_data if 0 <= y - lang_dict[ger] < 100]))\r\n",
        "    print(\"German labels:\", len({y for y in y_data if 0 <= y - lang_dict[ger] < 100}))\r\n",
        "    print(\"Icelandic letters:\", len([y for y in y_data if 0 <= y - lang_dict[ice] < 100]))\r\n",
        "    print(\"Icelandic labels:\", len({y for y in y_data if 0 <= y - lang_dict[ice] < 100}))"
      ],
      "execution_count": 7,
      "outputs": []
    },
    {
      "cell_type": "code",
      "metadata": {
        "id": "ZG8ZjM3PbvkN",
        "colab": {
          "base_uri": "https://localhost:8080/"
        },
        "outputId": "ea222856-2432-4fa8-afd5-065cf40b4f55"
      },
      "source": [
        "test_data(x_data_3chan, y_data_3chan)"
      ],
      "execution_count": 8,
      "outputs": [
        {
          "output_type": "stream",
          "text": [
            "Data Size Summary:\n",
            "\n",
            "x size: 234\n",
            "y size: 234\n",
            "English letters: 156\n",
            "English labels: 52\n",
            "German letters: 24\n",
            "German labels: 8\n",
            "Icelandic letters: 54\n",
            "Icelandic labels: 18\n"
          ],
          "name": "stdout"
        }
      ]
    },
    {
      "cell_type": "markdown",
      "metadata": {
        "id": "jSEMPmH9cUW8"
      },
      "source": [
        "German Special = 8 letters x 3 fonts = 24\r\n",
        "\r\n",
        "Iclandic Special = (20 letters - 2 that intersect with german) x 3 fonts = 54\r\n",
        "\r\n",
        "Small/Caps English letters = 26 x 3 fonts = 78 (each) => 78 x 2 = 156"
      ]
    },
    {
      "cell_type": "markdown",
      "metadata": {
        "id": "GsWHHyUfc3IN"
      },
      "source": [
        "### Define Process Functions"
      ]
    },
    {
      "cell_type": "markdown",
      "metadata": {
        "id": "Ylp20Rfic87k"
      },
      "source": [
        "#### Convertion to Binary"
      ]
    },
    {
      "cell_type": "markdown",
      "metadata": {
        "id": "brNuFecKyz2G"
      },
      "source": [
        "The below function get's an image and convert it to binary(0/255) based on color."
      ]
    },
    {
      "cell_type": "code",
      "metadata": {
        "id": "1f2vrg-BWd3i"
      },
      "source": [
        "def to_binary(img):\r\n",
        "    new_img = img.copy()\r\n",
        "    for row in range(new_img.shape[0]):\r\n",
        "        for col in range(new_img.shape[1]):\r\n",
        "            if new_img[row][col] <= 127:\r\n",
        "                new_img[row][col] = 255\r\n",
        "            else:\r\n",
        "                new_img[row][col] = 0\r\n",
        "    return new_img"
      ],
      "execution_count": 9,
      "outputs": []
    },
    {
      "cell_type": "markdown",
      "metadata": {
        "id": "2SSJEhgozI6U"
      },
      "source": [
        "The below function get's a binary-image(0/255) and convert it to binary(0/1)."
      ]
    },
    {
      "cell_type": "code",
      "metadata": {
        "id": "H4EZi-qWdSO3"
      },
      "source": [
        "def to_bin_01(bin_img):\r\n",
        "    output = bin_img.copy()\r\n",
        "    rows, cols = output.shape\r\n",
        "    for row in range(rows):\r\n",
        "        for col in range(cols):\r\n",
        "            if output[row][col] == 255:\r\n",
        "                output[row][col] = 1\r\n",
        "    return output"
      ],
      "execution_count": 10,
      "outputs": []
    },
    {
      "cell_type": "markdown",
      "metadata": {
        "id": "ZDPOjJfZzPvp"
      },
      "source": [
        "The below function get's a binary-image(0/1) and convert it to a format that openCV required"
      ]
    },
    {
      "cell_type": "code",
      "metadata": {
        "id": "1dtkwm_fdT-u"
      },
      "source": [
        "def reverse_bin(bin_image):\r\n",
        "    return np.float32(bin_image)"
      ],
      "execution_count": 11,
      "outputs": []
    },
    {
      "cell_type": "markdown",
      "metadata": {
        "id": "Lr-eAO-gc_tS"
      },
      "source": [
        "#### Finding Moments"
      ]
    },
    {
      "cell_type": "markdown",
      "metadata": {
        "id": "QbmljMnDzU3S"
      },
      "source": [
        "The below function extract the 2nd and 3rd order normalized centralized moments (NCMs). \r\n"
      ]
    },
    {
      "cell_type": "code",
      "metadata": {
        "id": "L-JTkzBLcTni"
      },
      "source": [
        "def find_moments(img):\r\n",
        "    temp = cv2.moments(img)\r\n",
        "    output = [temp.get(key) for key in ['nu20', 'nu11', 'nu02', 'nu30', 'nu21', 'nu12', 'nu03']]\r\n",
        "    return output"
      ],
      "execution_count": 12,
      "outputs": []
    },
    {
      "cell_type": "markdown",
      "metadata": {
        "id": "7dmPDN9XdCyG"
      },
      "source": [
        "#### Special Region Definition"
      ]
    },
    {
      "cell_type": "markdown",
      "metadata": {
        "id": "rzbTGCzU0MrK"
      },
      "source": [
        "The below function returns the special region (as defined in the project report) of an image. "
      ]
    },
    {
      "cell_type": "code",
      "metadata": {
        "id": "8yl-BrWRd7T6"
      },
      "source": [
        "def top_pxl(img, k):\r\n",
        "    rows, cols = img.shape\r\n",
        "    crop_img = img[:k, :]\r\n",
        "    return crop_img"
      ],
      "execution_count": 13,
      "outputs": []
    },
    {
      "cell_type": "markdown",
      "metadata": {
        "id": "b7vEZdcfdHBl"
      },
      "source": [
        "#### Comparation Functions"
      ]
    },
    {
      "cell_type": "markdown",
      "metadata": {
        "id": "d6dgFx390qWs"
      },
      "source": [
        "The below function compare to features vectors (using SSD) and return the result."
      ]
    },
    {
      "cell_type": "code",
      "metadata": {
        "id": "VdJLcR_ugH5Z"
      },
      "source": [
        "def ft_comp(f1, f2):\r\n",
        "    diff_score = []\r\n",
        "    for i in range(len(f1)):\r\n",
        "        if f1[i] > f2[i]:\r\n",
        "            diff_score = diff_score + [f1[i] - f2[i]]\r\n",
        "        else:\r\n",
        "            diff_score = diff_score + [f2[i] - f1[i]]\r\n",
        "    return float((sum([i**2 for i in diff_score]))) # SSD     "
      ],
      "execution_count": 14,
      "outputs": []
    },
    {
      "cell_type": "markdown",
      "metadata": {
        "id": "N0dvV35QD-6_"
      },
      "source": [
        "## OCR on Dataset\r\n"
      ]
    },
    {
      "cell_type": "markdown",
      "metadata": {
        "id": "rRrAlxN6007o"
      },
      "source": [
        "The below function takes the data set and resize it, 2 times bigger and than activates an OCR on it to cut the white backround."
      ]
    },
    {
      "cell_type": "code",
      "metadata": {
        "id": "20Hm9Am7Apzb"
      },
      "source": [
        "new_labels = []\r\n",
        "filled_list = []\r\n",
        "for i in range(len(x_data_3chan)):\r\n",
        "  img = x_data_3chan[i]\r\n",
        "  img_temp = img\r\n",
        "\r\n",
        "  # change image size\r\n",
        "  scale_percent = 200 # percent of original size\r\n",
        "  width = int(img_temp.shape[1] * scale_percent / 100)\r\n",
        "  height = int(img_temp.shape[0] * scale_percent / 100)\r\n",
        "  dim = (width, height)\r\n",
        "\r\n",
        "  # resize image\r\n",
        "  resized = cv2.resize(img, dim, interpolation = cv2.INTER_AREA)\r\n",
        "\r\n",
        "  # gray image\r\n",
        "  gray = cv2.cvtColor(resized, cv2.COLOR_BGR2GRAY)\r\n",
        "\r\n",
        "  # change threshold to white and black only\r\n",
        "  ret, thresh = cv2.threshold(gray, 0, 255, cv2.THRESH_OTSU)\r\n",
        "\r\n",
        "  # find edges with Canny algorithm\r\n",
        "  edges = cv2.Canny(thresh,100,200)\r\n",
        "  \r\n",
        "  # dilate the img\r\n",
        "  dilate_img = cv2.dilate(edges, None, iterations=1)\r\n",
        "  ret, binery_img = cv2.threshold(dilate_img, 0, 255, cv2.THRESH_OTSU)\r\n",
        "\r\n",
        "  # Copy the thresholded image.\r\n",
        "  im_floodfill = binery_img.copy()\r\n",
        "\r\n",
        "  # Mask used to flood filling\r\n",
        "  h, w = binery_img.shape[:2]\r\n",
        "  mask = np.zeros((h+2, w+2), np.uint8)\r\n",
        "\r\n",
        "  # Floodfill from point (0, 0)\r\n",
        "  cv2.floodFill(im_floodfill, mask, (0,0), 255);\r\n",
        "\r\n",
        "  # Invert floodfilled image\r\n",
        "  im_floodfill_inv = cv2.bitwise_not(im_floodfill)\r\n",
        "\r\n",
        "  # Combine the two images to get the foreground\r\n",
        "  filled = binery_img | im_floodfill_inv\r\n",
        "\r\n",
        "  invert = cv2.bitwise_not(filled)\r\n",
        "  ret, mask = cv2.threshold(invert, 254, 255, cv2.THRESH_BINARY)\r\n",
        "  cv2.waitKey(0)\r\n",
        "\r\n",
        "  # find contours of charecter in an image\r\n",
        "  contours, hierarchy = cv2.findContours(mask, cv2.RETR_LIST, cv2.CHAIN_APPROX_SIMPLE)\r\n",
        "  for contour in contours:\r\n",
        "\r\n",
        "      if cv2.contourArea(contour) < 200:\r\n",
        "          continue\r\n",
        "\r\n",
        "      rect = cv2.minAreaRect(contour)\r\n",
        "      box = cv2.boxPoints(rect)\r\n",
        "\r\n",
        "      ext_left = tuple(contour[contour[:, :, 0].argmin()][0])\r\n",
        "      ext_right = tuple(contour[contour[:, :, 0].argmax()][0])\r\n",
        "      ext_top = tuple(contour[contour[:, :, 1].argmin()][0])\r\n",
        "      ext_bot = tuple(contour[contour[:, :, 1].argmax()][0])\r\n",
        "\r\n",
        "      roi_corners = np.array([box], dtype=np.int32)\r\n",
        "\r\n",
        "      cv2.polylines(resized, roi_corners, 1, (255, 0, 0), 3)\r\n",
        "      cv2.waitKey(0)\r\n",
        "\r\n",
        "      cropped_image = gray[ext_top[1]- 35 :ext_bot[1], ext_left[0]:ext_right[0]]\r\n",
        "      fil_crop_img = filled[ext_top[1]- 35 :ext_bot[1], ext_left[0]:ext_right[0]]\r\n",
        "     \r\n",
        "      h_c = cropped_image.shape\r\n",
        "      if h_c[0] > 100:\r\n",
        "        filled_list.append(fil_crop_img)\r\n",
        "        new_labels.append(y_data_3chan[i])"
      ],
      "execution_count": 15,
      "outputs": []
    },
    {
      "cell_type": "markdown",
      "metadata": {
        "id": "_0AypeAKdbJp"
      },
      "source": [
        "### Feature Extraction"
      ]
    },
    {
      "cell_type": "markdown",
      "metadata": {
        "id": "EX_fJqFk03oZ"
      },
      "source": [
        "This below function extract the features for the comparison:\r\n",
        "\r\n",
        "\r\n",
        "\r\n",
        "*   First, the function convert the given image to binary.\r\n",
        "*   Second, the function finds the moments of the (full) binary image.\r\n",
        "*   Then, the function finds the moments of the special region of the binary image.\r\n",
        "*   Then, the function skeletonize the full binary image.\r\n",
        "*   Then, the function finds the moments of the (full) skeleton image.\r\n",
        "*  Then, the function finds the moments of the special region of the skeleton image.\r\n",
        "*  At last, the function calculate the \"white\" pixels of the  special region of the binary image.\r\n",
        "\r\n",
        "Beside the skeletonize and the binary-convertion, the function insert the rest of the results to a feature vector and returns the vector.\r\n"
      ]
    },
    {
      "cell_type": "code",
      "metadata": {
        "id": "qK31N4u1IboS"
      },
      "source": [
        "def find_feature_vec(img, pad_top):\r\n",
        "        bin_img = to_binary(img)\r\n",
        "        feature_vec = find_moments(bin_img)\r\n",
        "        feature_vec = feature_vec + find_moments(top_pxl(bin_img, pad_top))\r\n",
        "        sk_img = reverse_bin(skeletonize(to_bin_01(bin_img)))\r\n",
        "        feature_vec = feature_vec + find_moments(sk_img)\r\n",
        "        feature_vec = feature_vec + find_moments(top_pxl(sk_img, pad_top))\r\n",
        "        tp = top_pxl(bin_img, pad_top)\r\n",
        "        rows, cols = tp.shape\r\n",
        "        counter = 0\r\n",
        "        for row in range(rows):\r\n",
        "            for col in range(cols):\r\n",
        "                if tp[row][col] == 255:\r\n",
        "                    counter += 1\r\n",
        "        feature_vec = feature_vec + [counter/(tp.shape[0]*tp.shape[1])]\r\n",
        "        return feature_vec"
      ],
      "execution_count": 16,
      "outputs": []
    },
    {
      "cell_type": "code",
      "metadata": {
        "id": "alnaoJ9h_Li7"
      },
      "source": [
        "# Finding the features of each letter from the dataset.\r\n",
        "features_per_letter = []\r\n",
        "for img in filled_list:\r\n",
        "    features_per_letter.append(find_feature_vec(img, 35))\r\n",
        "\r\n",
        "ncomp = len(features_per_letter[0])"
      ],
      "execution_count": 17,
      "outputs": []
    },
    {
      "cell_type": "code",
      "metadata": {
        "id": "46-nsyGQViZp",
        "colab": {
          "base_uri": "https://localhost:8080/"
        },
        "outputId": "69be8739-2dfb-4553-b623-9c7af2923452"
      },
      "source": [
        "print(\"Len of features_per_letter (should be same as dataset = 234): \", len(features_per_letter))\r\n",
        "print(\"Len of each feature vector: \", ncomp)\r\n"
      ],
      "execution_count": 18,
      "outputs": [
        {
          "output_type": "stream",
          "text": [
            "Len of features_per_letter (should be same as dataset = 234):  234\n",
            "Len of each feature vector:  29\n"
          ],
          "name": "stdout"
        }
      ]
    },
    {
      "cell_type": "code",
      "metadata": {
        "id": "VgRZ-6AL_FvZ",
        "colab": {
          "base_uri": "https://localhost:8080/"
        },
        "outputId": "470c8439-39a6-4e1d-c558-0ae5efba5029"
      },
      "source": [
        "print(\"Features comparison between two identical images: \", ft_comp(features_per_letter[0], features_per_letter[0]))\r\n",
        "print(\"Features comparison between two similar images: \", ft_comp(features_per_letter[3], features_per_letter[-19]))"
      ],
      "execution_count": 19,
      "outputs": [
        {
          "output_type": "stream",
          "text": [
            "Features comparison between two identical images:  0.0\n",
            "Features comparison between two similar images:  4.152538692804535\n"
          ],
          "name": "stdout"
        }
      ]
    },
    {
      "cell_type": "code",
      "metadata": {
        "id": "AY-UETc7AGHU",
        "colab": {
          "base_uri": "https://localhost:8080/",
          "height": 286
        },
        "outputId": "3b9fb6e9-0a4e-4af0-98eb-930d1121dd6a"
      },
      "source": [
        "plt.imshow(filled_list[3], cmap=\"gray\")"
      ],
      "execution_count": 20,
      "outputs": [
        {
          "output_type": "execute_result",
          "data": {
            "text/plain": [
              "<matplotlib.image.AxesImage at 0x7ffb86279b90>"
            ]
          },
          "metadata": {
            "tags": []
          },
          "execution_count": 20
        },
        {
          "output_type": "display_data",
          "data": {
            "image/png": "[encoded data removed]",
            "text/plain": [
              "<Figure size 432x288 with 1 Axes>"
            ]
          },
          "metadata": {
            "tags": [],
            "needs_background": "light"
          }
        }
      ]
    },
    {
      "cell_type": "code",
      "metadata": {
        "id": "yHQqRjOWAPlc",
        "colab": {
          "base_uri": "https://localhost:8080/",
          "height": 286
        },
        "outputId": "35a68945-94ef-4178-bf65-f2126a0b3a0d"
      },
      "source": [
        "plt.imshow(filled_list[-19], cmap=\"gray\")"
      ],
      "execution_count": 21,
      "outputs": [
        {
          "output_type": "execute_result",
          "data": {
            "text/plain": [
              "<matplotlib.image.AxesImage at 0x7ffb85d11790>"
            ]
          },
          "metadata": {
            "tags": []
          },
          "execution_count": 21
        },
        {
          "output_type": "display_data",
          "data": {
            "image/png": "[encoded data removed]",
            "text/plain": [
              "<Figure size 432x288 with 1 Axes>"
            ]
          },
          "metadata": {
            "tags": [],
            "needs_background": "light"
          }
        }
      ]
    },
    {
      "cell_type": "markdown",
      "metadata": {
        "id": "Ad_craPaf-o8"
      },
      "source": [
        "We can see that the images are very similar, but the features comparison find a big difference between them."
      ]
    },
    {
      "cell_type": "markdown",
      "metadata": {
        "id": "65MONiqfEU0j"
      },
      "source": [
        "## OCR on Input Text"
      ]
    },
    {
      "cell_type": "markdown",
      "metadata": {
        "id": "BcrlziXO3PsV"
      },
      "source": [
        "The below function gets an image with text of some luange(English/Geramn/Icelandic) and returns each character in the text in a list"
      ]
    },
    {
      "cell_type": "code",
      "metadata": {
        "id": "GGAYHb--IBPT"
      },
      "source": [
        "def ocr_data(img):  \r\n",
        "  letters_list_found = []\r\n",
        "\r\n",
        "  # change image size\r\n",
        "  scale_percent = 200 # percent of original size\r\n",
        "  width = int(img.shape[1] * scale_percent / 100)\r\n",
        "  height = int(img.shape[0] * scale_percent / 100)\r\n",
        "  dim = (width, height)\r\n",
        "\r\n",
        "  # resize image\r\n",
        "  resized = cv2.resize(img, dim, interpolation = cv2.INTER_AREA)\r\n",
        "\r\n",
        "  # change threshold to white and black only\r\n",
        "  ret, thresh = cv2.threshold(resized, 0, 255, cv2.THRESH_OTSU)\r\n",
        "\r\n",
        "  # find edges with Canny algorithm\r\n",
        "  edges = cv2.Canny(thresh,100,200)\r\n",
        "\r\n",
        "  # dilate the img\r\n",
        "  dilate_img = cv2.dilate(edges, None, iterations=1)\r\n",
        "\r\n",
        "  # change threshold to white and black only\r\n",
        "\r\n",
        "  ret, binery_img = cv2.threshold(dilate_img, 0, 255, cv2.THRESH_OTSU)\r\n",
        "\r\n",
        "  # Copy the thresholded image\r\n",
        "  im_floodfill = binery_img.copy()\r\n",
        "\r\n",
        "  # Mask used to flood filling\r\n",
        "  h, w = binery_img.shape[:2]\r\n",
        "  mask = np.zeros((h+2, w+2), np.uint8)\r\n",
        "\r\n",
        "  # Floodfill from point (0, 0)\r\n",
        "  cv2.floodFill(im_floodfill, mask, (0,0), 255);\r\n",
        "\r\n",
        "  # Invert floodfilled image\r\n",
        "  im_floodfill_inv = cv2.bitwise_not(im_floodfill)\r\n",
        "\r\n",
        "  # Combine the two images to get the foreground.\r\n",
        "  filled = binery_img | im_floodfill_inv\r\n",
        "\r\n",
        "  # invert white and black pixels\r\n",
        "  invert = cv2.bitwise_not(filled)\r\n",
        "\r\n",
        "  result = img.copy()\r\n",
        "  img2 = img.copy()\r\n",
        "\r\n",
        "  # make completely white\r\n",
        "  ret, mask = cv2.threshold(invert, 254, 255, cv2.THRESH_BINARY)\r\n",
        "  cv2.waitKey(0)\r\n",
        "\r\n",
        "  # find contours of charecter in an image\r\n",
        "  contours, hierarchy = cv2.findContours(mask, cv2.RETR_LIST, cv2.CHAIN_APPROX_SIMPLE)\r\n",
        "\r\n",
        "  #letters_list_found = []\r\n",
        "  for contour in contours:\r\n",
        "\r\n",
        "      if cv2.contourArea(contour) < 200:\r\n",
        "          continue\r\n",
        "\r\n",
        "      rect = cv2.minAreaRect(contour)\r\n",
        "      box = cv2.boxPoints(rect)\r\n",
        "\r\n",
        "      ext_left = tuple(contour[contour[:, :, 0].argmin()][0])\r\n",
        "      ext_right = tuple(contour[contour[:, :, 0].argmax()][0])\r\n",
        "      ext_top = tuple(contour[contour[:, :, 1].argmin()][0])\r\n",
        "      ext_bot = tuple(contour[contour[:, :, 1].argmax()][0])\r\n",
        "\r\n",
        "      roi_corners = np.array([box], dtype=np.int32)\r\n",
        "\r\n",
        "      cv2.polylines(img, roi_corners, 1, (255, 0, 0), 3)\r\n",
        "      cv2.waitKey(0)\r\n",
        "\r\n",
        "      cropped_image = filled[ext_top[1]-35:ext_bot[1], ext_left[0]:ext_right[0]] \r\n",
        "      h_c = cropped_image.shape\r\n",
        "      if h_c[0] > 80: \r\n",
        "        letters_list_found.append(cropped_image)\r\n",
        "  return letters_list_found"
      ],
      "execution_count": 22,
      "outputs": []
    },
    {
      "cell_type": "code",
      "metadata": {
        "id": "sWHJ9sPVrkkP"
      },
      "source": [
        "letters_list_found = ocr_data(cv2.imread(img_path, 0)) "
      ],
      "execution_count": 23,
      "outputs": []
    },
    {
      "cell_type": "code",
      "metadata": {
        "id": "mLHH7UOvadQr",
        "colab": {
          "base_uri": "https://localhost:8080/"
        },
        "outputId": "ea9d0d45-ea15-457f-89d0-1e0c5f231e1f"
      },
      "source": [
        "print(\"Number of letters found: \", len(letters_list_found))"
      ],
      "execution_count": 24,
      "outputs": [
        {
          "output_type": "stream",
          "text": [
            "Number of letters found:  180\n"
          ],
          "name": "stdout"
        }
      ]
    },
    {
      "cell_type": "markdown",
      "metadata": {
        "id": "bHSA1P4Jeg9w"
      },
      "source": [
        "## Identification of the Language"
      ]
    },
    {
      "cell_type": "markdown",
      "metadata": {
        "id": "6kWyDgx3em1R"
      },
      "source": [
        "### Feature Extraction from the Input Text"
      ]
    },
    {
      "cell_type": "code",
      "metadata": {
        "id": "XC2Azt4XNU89"
      },
      "source": [
        "letter_features = [find_feature_vec(img, 35) for img in letters_list_found]"
      ],
      "execution_count": 25,
      "outputs": []
    },
    {
      "cell_type": "markdown",
      "metadata": {
        "id": "RnDca8QvevwO"
      },
      "source": [
        "### Comparison the Text Input to the Dataset"
      ]
    },
    {
      "cell_type": "code",
      "metadata": {
        "id": "dpFSEZeCKmp0"
      },
      "source": [
        "res_labels = []\r\n",
        "for feat in letter_features:\r\n",
        "    vals_idxs = [(ft_comp(feat, features_per_letter[i]), new_labels[i]) for i in range(len(new_labels))]\r\n",
        "    vals = [el[0] for el in vals_idxs]\r\n",
        "    tmp = min(vals)\r\n",
        "    idxs = [el[1] for el in vals_idxs]\r\n",
        "    ans = [vals_idxs[i][1] for i in range(len(vals)) if vals_idxs[i][0] == tmp][0]\r\n",
        "\r\n",
        "    if ans not in [120, 152, 203, 204, 317, 318]: # If not u (or variation)\r\n",
        "        res_labels = res_labels + [ans]"
      ],
      "execution_count": 26,
      "outputs": []
    },
    {
      "cell_type": "markdown",
      "metadata": {
        "id": "PDt5RLDxe8Db"
      },
      "source": [
        "### Calculating the Language"
      ]
    },
    {
      "cell_type": "code",
      "metadata": {
        "id": "olcG-858MsMF",
        "colab": {
          "base_uri": "https://localhost:8080/"
        },
        "outputId": "22a38e73-3931-4b43-d57b-176171828ec3"
      },
      "source": [
        "# Count Appearences\r\n",
        "english = 0\r\n",
        "german = 0\r\n",
        "iceland = 0\r\n",
        "for i in res_labels: \r\n",
        "    if i < 200: \r\n",
        "        english = english +1\r\n",
        "    if i > 199 and i < 300: \r\n",
        "        german = german +1\r\n",
        "    if i > 299 and i < 400: \r\n",
        "        iceland = iceland +1    \r\n",
        "\r\n",
        "# Identify the language\r\n",
        "if 0 <= german <= 1 and 0 <= iceland <= 1:\r\n",
        "  print(\"You have an English text!\")\r\n",
        "elif german >= iceland:\r\n",
        "  print(\"You have a German text!\")\r\n",
        "elif german < iceland:\r\n",
        "  print(\"You have an Icelandic text!\")\r\n",
        "else: # Shouldn't happen\r\n",
        "  print(\"Oops! An error has occurred.\")"
      ],
      "execution_count": 27,
      "outputs": [
        {
          "output_type": "stream",
          "text": [
            "You have an Icelandic text!\n"
          ],
          "name": "stdout"
        }
      ]
    },
    {
      "cell_type": "markdown",
      "metadata": {
        "id": "vmIhhvAdfA17"
      },
      "source": [
        "## Helpul Tests Functions (Extra)"
      ]
    },
    {
      "cell_type": "code",
      "metadata": {
        "id": "B4ZQbtTHnGjj"
      },
      "source": [
        "# Find the image that correspond with the label \r\n",
        "def img_in_label(label, font=0):\r\n",
        "    return filled_list[[i for i in range(len(new_labels)) if new_labels[i] == label][font]]\r\n",
        "\r\n",
        "# Find the features vector of the image that correspond with the label\r\n",
        "def feat_in_label(label, font=0):\r\n",
        "    return features_per_letter[[i for i in range(len(new_labels)) if new_labels[i] == label][font]]"
      ],
      "execution_count": 28,
      "outputs": []
    },
    {
      "cell_type": "markdown",
      "metadata": {
        "id": "0pd6yic2q8KE"
      },
      "source": [
        "## Accuracy Test: Special Letters"
      ]
    },
    {
      "cell_type": "markdown",
      "metadata": {
        "id": "qV9xjjkcrHrm"
      },
      "source": [
        "### German Special Letters"
      ]
    },
    {
      "cell_type": "code",
      "metadata": {
        "id": "D6Q0EWWFrKZD"
      },
      "source": [
        "#all_combine_path = \"AllSpecialCombine.jpg\"\r\n",
        "ger_spec_list = ocr_data(cv2.imread(all_combine_path, 0))\r\n",
        "letter_features = [find_feature_vec(img, 35) for img in ger_spec_list]\r\n",
        "res_labels = []\r\n",
        "for feat in letter_features:\r\n",
        "    vals_idxs = [(ft_comp(feat, features_per_letter[i]), new_labels[i]) for i in range(len(new_labels))]\r\n",
        "    vals = [el[0] for el in vals_idxs]\r\n",
        "    tmp = min(vals)\r\n",
        "    idxs = [el[1] for el in vals_idxs]\r\n",
        "    ans = [vals_idxs[i][1] for i in range(len(vals)) if vals_idxs[i][0] == tmp][0]\r\n",
        "\r\n",
        "    if ans not in [120, 152, 203, 204, 317, 318]: # If not u (or variation)\r\n",
        "        res_labels = res_labels + [ans]"
      ],
      "execution_count": 29,
      "outputs": []
    },
    {
      "cell_type": "code",
      "metadata": {
        "id": "PMcgxlfIsWh6",
        "colab": {
          "base_uri": "https://localhost:8080/"
        },
        "outputId": "16c54873-57c0-4351-8844-dc9087454351"
      },
      "source": [
        "print(\"Number of appearances:\")\r\n",
        "\r\n",
        "# Count Appearences\r\n",
        "english = 0\r\n",
        "german = 0\r\n",
        "iceland = 0\r\n",
        "for i in res_labels: \r\n",
        "    if i < 200: \r\n",
        "        english = english +1\r\n",
        "    if i > 199 and i < 300: \r\n",
        "        german = german +1\r\n",
        "    if i > 299 and i < 400: \r\n",
        "        iceland = iceland +1   \r\n",
        "\r\n",
        "print(\"English, German, Icelandic: \", english, german, iceland)"
      ],
      "execution_count": 30,
      "outputs": [
        {
          "output_type": "stream",
          "text": [
            "Number of appearances:\n",
            "English, German, Icelandic:  1 6 16\n"
          ],
          "name": "stdout"
        }
      ]
    },
    {
      "cell_type": "code",
      "metadata": {
        "id": "lHRgXzqtL8D8",
        "colab": {
          "base_uri": "https://localhost:8080/",
          "height": 1000
        },
        "outputId": "72f9ce77-a61b-4fa0-bd83-3f6648b85324"
      },
      "source": [
        "print(\"Successfull Identification:\")\r\n",
        "for i in res_labels:\r\n",
        "     cv2_imshow(img_in_label(i))"
      ],
      "execution_count": 31,
      "outputs": [
        {
          "output_type": "stream",
          "text": [
            "Successfull Identification:\n"
          ],
          "name": "stdout"
        },
        {
          "output_type": "display_data",
          "data": {
            "image/png": "[encoded data removed]",
            "text/plain": [
              "<PIL.Image.Image image mode=L size=79x143 at 0x7FFB85CE4D50>"
            ]
          },
          "metadata": {
            "tags": []
          }
        },
        {
          "output_type": "display_data",
          "data": {
            "image/png": "[encoded data removed]",
            "text/plain": [
              "<PIL.Image.Image image mode=L size=70x113 at 0x7FFB85CE4C90>"
            ]
          },
          "metadata": {
            "tags": []
          }
        },
        {
          "output_type": "display_data",
          "data": {
            "image/png": "[encoded data removed]",
            "text/plain": [
              "<PIL.Image.Image image mode=L size=37x111 at 0x7FFB85CE4F90>"
            ]
          },
          "metadata": {
            "tags": []
          }
        },
        {
          "output_type": "display_data",
          "data": {
            "image/png": "[encoded data removed]",
            "text/plain": [
              "<PIL.Image.Image image mode=L size=62x113 at 0x7FFB85CE4C90>"
            ]
          },
          "metadata": {
            "tags": []
          }
        },
        {
          "output_type": "display_data",
          "data": {
            "image/png": "[encoded data removed]",
            "text/plain": [
              "<PIL.Image.Image image mode=L size=66x113 at 0x7FFB85CE4F90>"
            ]
          },
          "metadata": {
            "tags": []
          }
        },
        {
          "output_type": "display_data",
          "data": {
            "image/png": "[encoded data removed]",
            "text/plain": [
              "<PIL.Image.Image image mode=L size=98x113 at 0x7FFB85CE4C90>"
            ]
          },
          "metadata": {
            "tags": []
          }
        },
        {
          "output_type": "display_data",
          "data": {
            "image/png": "[encoded data removed]",
            "text/plain": [
              "<PIL.Image.Image image mode=L size=72x113 at 0x7FFB85CE4F90>"
            ]
          },
          "metadata": {
            "tags": []
          }
        },
        {
          "output_type": "display_data",
          "data": {
            "image/png": "[encoded data removed]",
            "text/plain": [
              "<PIL.Image.Image image mode=L size=113x142 at 0x7FFB85CE4C90>"
            ]
          },
          "metadata": {
            "tags": []
          }
        },
        {
          "output_type": "display_data",
          "data": {
            "image/png": "[encoded data removed]",
            "text/plain": [
              "<PIL.Image.Image image mode=L size=111x141 at 0x7FFB85CE4F90>"
            ]
          },
          "metadata": {
            "tags": []
          }
        },
        {
          "output_type": "display_data",
          "data": {
            "image/png": "[encoded data removed]",
            "text/plain": [
              "<PIL.Image.Image image mode=L size=47x141 at 0x7FFB85CE4C90>"
            ]
          },
          "metadata": {
            "tags": []
          }
        },
        {
          "output_type": "display_data",
          "data": {
            "image/png": "[encoded data removed]",
            "text/plain": [
              "<PIL.Image.Image image mode=L size=91x141 at 0x7FFB85CE4F90>"
            ]
          },
          "metadata": {
            "tags": []
          }
        },
        {
          "output_type": "display_data",
          "data": {
            "image/png": "[encoded data removed]",
            "text/plain": [
              "<PIL.Image.Image image mode=L size=81x141 at 0x7FFB85CE4C90>"
            ]
          },
          "metadata": {
            "tags": []
          }
        },
        {
          "output_type": "display_data",
          "data": {
            "image/png": "[encoded data removed]",
            "text/plain": [
              "<PIL.Image.Image image mode=L size=137x141 at 0x7FFB85CE4F90>"
            ]
          },
          "metadata": {
            "tags": []
          }
        },
        {
          "output_type": "display_data",
          "data": {
            "image/png": "[encoded data removed]",
            "text/plain": [
              "<PIL.Image.Image image mode=L size=108x141 at 0x7FFB85CE4C90>"
            ]
          },
          "metadata": {
            "tags": []
          }
        },
        {
          "output_type": "display_data",
          "data": {
            "image/png": "[encoded data removed]",
            "text/plain": [
              "<PIL.Image.Image image mode=L size=104x145 at 0x7FFB85CE4F90>"
            ]
          },
          "metadata": {
            "tags": []
          }
        },
        {
          "output_type": "display_data",
          "data": {
            "image/png": "[encoded data removed]",
            "text/plain": [
              "<PIL.Image.Image image mode=L size=106x145 at 0x7FFB85CE4C90>"
            ]
          },
          "metadata": {
            "tags": []
          }
        },
        {
          "output_type": "display_data",
          "data": {
            "image/png": "[encoded data removed]",
            "text/plain": [
              "<PIL.Image.Image image mode=L size=70x148 at 0x7FFB85CE4F90>"
            ]
          },
          "metadata": {
            "tags": []
          }
        },
        {
          "output_type": "display_data",
          "data": {
            "image/png": "[encoded data removed]",
            "text/plain": [
              "<PIL.Image.Image image mode=L size=77x181 at 0x7FFB85CE4C90>"
            ]
          },
          "metadata": {
            "tags": []
          }
        },
        {
          "output_type": "display_data",
          "data": {
            "image/png": "[encoded data removed]",
            "text/plain": [
              "<PIL.Image.Image image mode=L size=72x113 at 0x7FFB85CE4F90>"
            ]
          },
          "metadata": {
            "tags": []
          }
        },
        {
          "output_type": "display_data",
          "data": {
            "image/png": "[encoded data removed]",
            "text/plain": [
              "<PIL.Image.Image image mode=L size=108x147 at 0x7FFB85CE4C90>"
            ]
          },
          "metadata": {
            "tags": []
          }
        },
        {
          "output_type": "display_data",
          "data": {
            "image/png": "[encoded data removed]",
            "text/plain": [
              "<PIL.Image.Image image mode=L size=106x145 at 0x7FFB85CE4F90>"
            ]
          },
          "metadata": {
            "tags": []
          }
        },
        {
          "output_type": "display_data",
          "data": {
            "image/png": "[encoded data removed]",
            "text/plain": [
              "<PIL.Image.Image image mode=L size=73x147 at 0x7FFB85CE4C90>"
            ]
          },
          "metadata": {
            "tags": []
          }
        },
        {
          "output_type": "display_data",
          "data": {
            "image/png": "[encoded data removed]",
            "text/plain": [
              "<PIL.Image.Image image mode=L size=105x145 at 0x7FFB85CE4F90>"
            ]
          },
          "metadata": {
            "tags": []
          }
        }
      ]
    },
    {
      "cell_type": "markdown",
      "metadata": {
        "id": "PSkjmT1_vGOZ"
      },
      "source": [
        "Note: labels 205 and 206 appear twice due to the fact that they appear in both icelandic and german."
      ]
    },
    {
      "cell_type": "code",
      "metadata": {
        "id": "JrXpfhk4vjeV",
        "colab": {
          "base_uri": "https://localhost:8080/",
          "height": 797
        },
        "outputId": "dfe03a37-26e8-44ce-9a34-3e9f5b983e06"
      },
      "source": [
        "print(\"Missing Specials:\")\r\n",
        "mis = {i for i in new_labels if i not in res_labels and i >= 200}\r\n",
        "for i in mis:\r\n",
        "    cv2_imshow(img_in_label(i))"
      ],
      "execution_count": 32,
      "outputs": [
        {
          "output_type": "stream",
          "text": [
            "Missing Specials:\n"
          ],
          "name": "stdout"
        },
        {
          "output_type": "display_data",
          "data": {
            "image/png": "[encoded data removed]",
            "text/plain": [
              "<PIL.Image.Image image mode=L size=68x113 at 0x7FFB85CD2890>"
            ]
          },
          "metadata": {
            "tags": []
          }
        },
        {
          "output_type": "display_data",
          "data": {
            "image/png": "[encoded data removed]",
            "text/plain": [
              "<PIL.Image.Image image mode=L size=113x142 at 0x7FFB85CE4F50>"
            ]
          },
          "metadata": {
            "tags": []
          }
        },
        {
          "output_type": "display_data",
          "data": {
            "image/png": "[encoded data removed]",
            "text/plain": [
              "<PIL.Image.Image image mode=L size=81x111 at 0x7FFB85CE4F50>"
            ]
          },
          "metadata": {
            "tags": []
          }
        },
        {
          "output_type": "display_data",
          "data": {
            "image/png": "[encoded data removed]",
            "text/plain": [
              "<PIL.Image.Image image mode=L size=113x143 at 0x7FFB85CE4B10>"
            ]
          },
          "metadata": {
            "tags": []
          }
        },
        {
          "output_type": "display_data",
          "data": {
            "image/png": "[encoded data removed]",
            "text/plain": [
              "<PIL.Image.Image image mode=L size=81x111 at 0x7FFB85CD61D0>"
            ]
          },
          "metadata": {
            "tags": []
          }
        },
        {
          "output_type": "display_data",
          "data": {
            "image/png": "[encoded data removed]",
            "text/plain": [
              "<PIL.Image.Image image mode=L size=113x143 at 0x7FFB85CD2450>"
            ]
          },
          "metadata": {
            "tags": []
          }
        }
      ]
    },
    {
      "cell_type": "markdown",
      "metadata": {
        "id": "d7s5PLa7yrue"
      },
      "source": [
        "We can see that beside the \"u\" variations (that we manually excluded), the only letters that were missing was small a with two dots above it, and capital A with two dots above it. Those together recognized as a G. This is a cropping error(i.e., both letters was counted as one). Due to the fact that this pair is unlikely to appear together, we are fine with that."
      ]
    },
    {
      "cell_type": "markdown",
      "metadata": {
        "id": "2YUjD5XEfH9U"
      },
      "source": [
        "## Report Examples Code"
      ]
    },
    {
      "cell_type": "markdown",
      "metadata": {
        "id": "GwNyZ0STWN51"
      },
      "source": [
        "### OCR on Data"
      ]
    },
    {
      "cell_type": "markdown",
      "metadata": {
        "id": "FKU1Voz2XLEB"
      },
      "source": [
        "Edge detection"
      ]
    },
    {
      "cell_type": "code",
      "metadata": {
        "id": "C41HqwinWWYl",
        "colab": {
          "base_uri": "https://localhost:8080/",
          "height": 876
        },
        "outputId": "d73b9727-3340-43a7-ca24-5c8c25b179d6"
      },
      "source": [
        "def ocr_data2(img):  \r\n",
        "\r\n",
        "  # change image size\r\n",
        "  scale_percent = 200 # percent of original size\r\n",
        "  width = int(img.shape[1] * scale_percent / 100)\r\n",
        "  height = int(img.shape[0] * scale_percent / 100)\r\n",
        "  dim = (width, height)\r\n",
        "\r\n",
        "  # resize image\r\n",
        "  resized = cv2.resize(img, dim, interpolation = cv2.INTER_AREA)\r\n",
        "\r\n",
        "  # change threshold to white and black only\r\n",
        "  ret, thresh = cv2.threshold(resized, 0, 255, cv2.THRESH_OTSU)\r\n",
        "\r\n",
        "  # find edges with Canny algorithm\r\n",
        "  edges = cv2.Canny(thresh,100,200)\r\n",
        "  cv2_imshow(edges)\r\n",
        "ocr_data2(cv2.imread(img_path, 0))"
      ],
      "execution_count": 33,
      "outputs": [
        {
          "output_type": "display_data",
          "data": {
            "image/png": "[encoded data removed]",
            "text/plain": [
              "<PIL.Image.Image image mode=L size=2240x1792 at 0x7FFB85D02310>"
            ]
          },
          "metadata": {
            "tags": []
          }
        }
      ]
    },
    {
      "cell_type": "markdown",
      "metadata": {
        "id": "XoJAUwYCYEL6"
      },
      "source": [
        "Dilate image"
      ]
    },
    {
      "cell_type": "code",
      "metadata": {
        "id": "kiSUCfHkYeSg",
        "colab": {
          "base_uri": "https://localhost:8080/",
          "height": 876
        },
        "outputId": "795a2c5d-6631-4f0a-cb95-c300adb0bdde"
      },
      "source": [
        "def ocr_data3(img):  \r\n",
        "  # change image size\r\n",
        "  scale_percent = 200 # percent of original size\r\n",
        "  width = int(img.shape[1] * scale_percent / 100)\r\n",
        "  height = int(img.shape[0] * scale_percent / 100)\r\n",
        "  dim = (width, height)\r\n",
        "\r\n",
        "  # resize image\r\n",
        "  resized = cv2.resize(img, dim, interpolation = cv2.INTER_AREA)\r\n",
        "\r\n",
        "  # change threshold to white and black only\r\n",
        "  ret, thresh = cv2.threshold(resized, 0, 255, cv2.THRESH_OTSU)\r\n",
        "\r\n",
        "  # find edges with Canny algorithm\r\n",
        "  edges = cv2.Canny(thresh,100,200)\r\n",
        "\r\n",
        "  # dilate the img\r\n",
        "  dilate_img = cv2.dilate(edges, None, iterations=1)\r\n",
        "\r\n",
        "  cv2_imshow(dilate_img)\r\n",
        "ocr_data3(cv2.imread(img_path, 0))"
      ],
      "execution_count": 34,
      "outputs": [
        {
          "output_type": "display_data",
          "data": {
            "image/png": "[encoded data removed]",
            "text/plain": [
              "<PIL.Image.Image image mode=L size=2240x1792 at 0x7FFB85D02B10>"
            ]
          },
          "metadata": {
            "tags": []
          }
        }
      ]
    },
    {
      "cell_type": "markdown",
      "metadata": {
        "id": "PIMzJJLGYrx7"
      },
      "source": [
        "Filled characters and color inverted"
      ]
    },
    {
      "cell_type": "code",
      "metadata": {
        "id": "G9rTSMWxYsbC",
        "colab": {
          "base_uri": "https://localhost:8080/",
          "height": 876
        },
        "outputId": "640b17aa-29c8-4a8b-d18b-f73af899008f"
      },
      "source": [
        "def ocr_data4(img):  \r\n",
        "  # change image size\r\n",
        "  scale_percent = 200 # percent of original size\r\n",
        "  width = int(img.shape[1] * scale_percent / 100)\r\n",
        "  height = int(img.shape[0] * scale_percent / 100)\r\n",
        "  dim = (width, height)\r\n",
        "\r\n",
        "  # resize image\r\n",
        "  resized = cv2.resize(img, dim, interpolation = cv2.INTER_AREA)\r\n",
        "\r\n",
        "  # change threshold to white and black only\r\n",
        "  ret, thresh = cv2.threshold(resized, 0, 255, cv2.THRESH_OTSU)\r\n",
        "\r\n",
        "  # find edges with Canny algorithm\r\n",
        "  edges = cv2.Canny(thresh,100,200)\r\n",
        "\r\n",
        "  # dilate the img\r\n",
        "  dilate_img = cv2.dilate(edges, None, iterations=1)\r\n",
        "\r\n",
        "  # change threshold to white and black only\r\n",
        "\r\n",
        "  ret, binery_img = cv2.threshold(dilate_img, 0, 255, cv2.THRESH_OTSU)\r\n",
        "\r\n",
        "  # Copy the thresholded image\r\n",
        "  im_floodfill = binery_img.copy()\r\n",
        "\r\n",
        "  # Mask used to flood filling\r\n",
        "  h, w = binery_img.shape[:2]\r\n",
        "  mask = np.zeros((h+2, w+2), np.uint8)\r\n",
        "\r\n",
        "  # Floodfill from point (0, 0)\r\n",
        "  cv2.floodFill(im_floodfill, mask, (0,0), 255);\r\n",
        "  \r\n",
        "  # Invert floodfilled image\r\n",
        "  im_floodfill_inv = cv2.bitwise_not(im_floodfill)\r\n",
        "\r\n",
        "  # Combine the two images to get the foreground.\r\n",
        "  filled = binery_img | im_floodfill_inv\r\n",
        "\r\n",
        "  # invert white and black pixels\r\n",
        "  invert = cv2.bitwise_not(filled)\r\n",
        "\r\n",
        "  cv2_imshow(invert)\r\n",
        "\r\n",
        "ocr_data4(cv2.imread(img_path, 0))"
      ],
      "execution_count": 35,
      "outputs": [
        {
          "output_type": "display_data",
          "data": {
            "image/png": "[encoded data removed]",
            "text/plain": [
              "<PIL.Image.Image image mode=L size=2240x1792 at 0x7FFB85D2A250>"
            ]
          },
          "metadata": {
            "tags": []
          }
        }
      ]
    },
    {
      "cell_type": "markdown",
      "metadata": {
        "id": "7xhJXuo4Lu_0"
      },
      "source": [
        "Final characters from text"
      ]
    },
    {
      "cell_type": "code",
      "metadata": {
        "id": "jzLfkI-yLvNy",
        "colab": {
          "base_uri": "https://localhost:8080/",
          "height": 1000
        },
        "outputId": "62fb9d49-5483-4bbe-9475-730d7b6614b0"
      },
      "source": [
        "def ocr_data5(img):  \r\n",
        "  # change image size\r\n",
        "  scale_percent = 200 # percent of original size\r\n",
        "  width = int(img.shape[1] * scale_percent / 100)\r\n",
        "  height = int(img.shape[0] * scale_percent / 100)\r\n",
        "  dim = (width, height)\r\n",
        "\r\n",
        "  # resize image\r\n",
        "  resized = cv2.resize(img, dim, interpolation = cv2.INTER_AREA)\r\n",
        "\r\n",
        "  # change threshold to white and black only\r\n",
        "  ret, thresh = cv2.threshold(resized, 0, 255, cv2.THRESH_OTSU)\r\n",
        "\r\n",
        "  # find edges with Canny algorithm\r\n",
        "  edges = cv2.Canny(thresh,100,200)\r\n",
        "\r\n",
        "  # dilate the img\r\n",
        "  dilate_img = cv2.dilate(edges, None, iterations=1)\r\n",
        "\r\n",
        "  # change threshold to white and black only\r\n",
        "\r\n",
        "  ret, binery_img = cv2.threshold(dilate_img, 0, 255, cv2.THRESH_OTSU)\r\n",
        "\r\n",
        "  # Copy the thresholded image\r\n",
        "  im_floodfill = binery_img.copy()\r\n",
        "\r\n",
        "  # Mask used to flood filling\r\n",
        "  h, w = binery_img.shape[:2]\r\n",
        "  mask = np.zeros((h+2, w+2), np.uint8)\r\n",
        "\r\n",
        "  # Floodfill from point (0, 0)\r\n",
        "  cv2.floodFill(im_floodfill, mask, (0,0), 255);\r\n",
        "\r\n",
        "  # Invert floodfilled image\r\n",
        "  im_floodfill_inv = cv2.bitwise_not(im_floodfill)\r\n",
        "\r\n",
        "  # Combine the two images to get the foreground.\r\n",
        "  filled = binery_img | im_floodfill_inv\r\n",
        "\r\n",
        "  # invert white and black pixels\r\n",
        "  invert = cv2.bitwise_not(filled)\r\n",
        "\r\n",
        "  result = img.copy()\r\n",
        "  img2 = img.copy()\r\n",
        "\r\n",
        "  # make completely white\r\n",
        "  ret, mask = cv2.threshold(invert, 254, 255, cv2.THRESH_BINARY)\r\n",
        "  cv2.waitKey(0)\r\n",
        "\r\n",
        "  # find contours of charecter in an image\r\n",
        "  contours, hierarchy = cv2.findContours(mask, cv2.RETR_LIST, cv2.CHAIN_APPROX_SIMPLE)\r\n",
        "\r\n",
        "  #letters_list_found = []\r\n",
        "  for contour in contours:\r\n",
        "\r\n",
        "      if cv2.contourArea(contour) < 200:\r\n",
        "          continue\r\n",
        "\r\n",
        "      rect = cv2.minAreaRect(contour)\r\n",
        "      box = cv2.boxPoints(rect)\r\n",
        "\r\n",
        "      ext_left = tuple(contour[contour[:, :, 0].argmin()][0])\r\n",
        "      ext_right = tuple(contour[contour[:, :, 0].argmax()][0])\r\n",
        "      ext_top = tuple(contour[contour[:, :, 1].argmin()][0])\r\n",
        "      ext_bot = tuple(contour[contour[:, :, 1].argmax()][0])\r\n",
        "\r\n",
        "      roi_corners = np.array([box], dtype=np.int32)\r\n",
        "\r\n",
        "      cv2.polylines(img, roi_corners, 1, (255, 0, 0), 3)\r\n",
        "      cv2.waitKey(0)\r\n",
        "\r\n",
        "      cropped_image = filled[ext_top[1]-35:ext_bot[1], ext_left[0]:ext_right[0]] \r\n",
        "      h_c = cropped_image.shape\r\n",
        "      if h_c[0] > 80: \r\n",
        "        letters_list_found.append(cropped_image)\r\n",
        "        cv2_imshow(cropped_image)\r\n",
        "\r\n",
        "ocr_data5(cv2.imread(img_path, 0))"
      ],
      "execution_count": 36,
      "outputs": [
        {
          "output_type": "display_data",
          "data": {
            "image/png": "[encoded data removed]",
            "text/plain": [
              "<PIL.Image.Image image mode=L size=66x119 at 0x7FFB85CC0250>"
            ]
          },
          "metadata": {
            "tags": []
          }
        },
        {
          "output_type": "display_data",
          "data": {
            "image/png": "[encoded data removed]",
            "text/plain": [
              "<PIL.Image.Image image mode=L size=16x117 at 0x7FFB86AFCDD0>"
            ]
          },
          "metadata": {
            "tags": []
          }
        },
        {
          "output_type": "display_data",
          "data": {
            "image/png": "[encoded data removed]",
            "text/plain": [
              "<PIL.Image.Image image mode=L size=72x149 at 0x7FFB86A97650>"
            ]
          },
          "metadata": {
            "tags": []
          }
        },
        {
          "output_type": "display_data",
          "data": {
            "image/png": "[encoded data removed]",
            "text/plain": [
              "<PIL.Image.Image image mode=L size=66x119 at 0x7FFB86AFCDD0>"
            ]
          },
          "metadata": {
            "tags": []
          }
        },
        {
          "output_type": "display_data",
          "data": {
            "image/png": "[encoded data removed]",
            "text/plain": [
              "<PIL.Image.Image image mode=L size=74x121 at 0x7FFB86A97650>"
            ]
          },
          "metadata": {
            "tags": []
          }
        },
        {
          "output_type": "display_data",
          "data": {
            "image/png": "[encoded data removed]",
            "text/plain": [
              "<PIL.Image.Image image mode=L size=46x119 at 0x7FFB86AFCDD0>"
            ]
          },
          "metadata": {
            "tags": []
          }
        },
        {
          "output_type": "display_data",
          "data": {
            "image/png": "[encoded data removed]",
            "text/plain": [
              "<PIL.Image.Image image mode=L size=74x121 at 0x7FFB86A97650>"
            ]
          },
          "metadata": {
            "tags": []
          }
        },
        {
          "output_type": "display_data",
          "data": {
            "image/png": "[encoded data removed]",
            "text/plain": [
              "<PIL.Image.Image image mode=L size=68x121 at 0x7FFB86AFCDD0>"
            ]
          },
          "metadata": {
            "tags": []
          }
        },
        {
          "output_type": "display_data",
          "data": {
            "image/png": "[encoded data removed]",
            "text/plain": [
              "<PIL.Image.Image image mode=L size=46x119 at 0x7FFB86A97650>"
            ]
          },
          "metadata": {
            "tags": []
          }
        },
        {
          "output_type": "display_data",
          "data": {
            "image/png": "[encoded data removed]",
            "text/plain": [
              "<PIL.Image.Image image mode=L size=74x121 at 0x7FFB86AFCDD0>"
            ]
          },
          "metadata": {
            "tags": []
          }
        },
        {
          "output_type": "display_data",
          "data": {
            "image/png": "[encoded data removed]",
            "text/plain": [
              "<PIL.Image.Image image mode=L size=108x119 at 0x7FFB86A97650>"
            ]
          },
          "metadata": {
            "tags": []
          }
        },
        {
          "output_type": "display_data",
          "data": {
            "image/png": "[encoded data removed]",
            "text/plain": [
              "<PIL.Image.Image image mode=L size=74x121 at 0x7FFB86AFCDD0>"
            ]
          },
          "metadata": {
            "tags": []
          }
        },
        {
          "output_type": "display_data",
          "data": {
            "image/png": "[encoded data removed]",
            "text/plain": [
              "<PIL.Image.Image image mode=L size=67x121 at 0x7FFB86A97650>"
            ]
          },
          "metadata": {
            "tags": []
          }
        },
        {
          "output_type": "display_data",
          "data": {
            "image/png": "[encoded data removed]",
            "text/plain": [
              "<PIL.Image.Image image mode=L size=72x151 at 0x7FFB86AFCDD0>"
            ]
          },
          "metadata": {
            "tags": []
          }
        },
        {
          "output_type": "display_data",
          "data": {
            "image/png": "[encoded data removed]",
            "text/plain": [
              "<PIL.Image.Image image mode=L size=66x119 at 0x7FFB86A97650>"
            ]
          },
          "metadata": {
            "tags": []
          }
        },
        {
          "output_type": "display_data",
          "data": {
            "image/png": "[encoded data removed]",
            "text/plain": [
              "<PIL.Image.Image image mode=L size=74x121 at 0x7FFB86AFCDD0>"
            ]
          },
          "metadata": {
            "tags": []
          }
        },
        {
          "output_type": "display_data",
          "data": {
            "image/png": "[encoded data removed]",
            "text/plain": [
              "<PIL.Image.Image image mode=L size=40x143 at 0x7FFB86A97650>"
            ]
          },
          "metadata": {
            "tags": []
          }
        },
        {
          "output_type": "display_data",
          "data": {
            "image/png": "[encoded data removed]",
            "text/plain": [
              "<PIL.Image.Image image mode=L size=74x147 at 0x7FFB86AFCDD0>"
            ]
          },
          "metadata": {
            "tags": []
          }
        },
        {
          "output_type": "display_data",
          "data": {
            "image/png": "[encoded data removed]",
            "text/plain": [
              "<PIL.Image.Image image mode=L size=66x145 at 0x7FFB86A97650>"
            ]
          },
          "metadata": {
            "tags": []
          }
        },
        {
          "output_type": "display_data",
          "data": {
            "image/png": "[encoded data removed]",
            "text/plain": [
              "<PIL.Image.Image image mode=L size=66x145 at 0x7FFB86AFCDD0>"
            ]
          },
          "metadata": {
            "tags": []
          }
        },
        {
          "output_type": "display_data",
          "data": {
            "image/png": "[encoded data removed]",
            "text/plain": [
              "<PIL.Image.Image image mode=L size=18x145 at 0x7FFB86A97650>"
            ]
          },
          "metadata": {
            "tags": []
          }
        },
        {
          "output_type": "display_data",
          "data": {
            "image/png": "[encoded data removed]",
            "text/plain": [
              "<PIL.Image.Image image mode=L size=66x145 at 0x7FFB86AFCDD0>"
            ]
          },
          "metadata": {
            "tags": []
          }
        },
        {
          "output_type": "display_data",
          "data": {
            "image/png": "[encoded data removed]",
            "text/plain": [
              "<PIL.Image.Image image mode=L size=18x145 at 0x7FFB86A97650>"
            ]
          },
          "metadata": {
            "tags": []
          }
        },
        {
          "output_type": "display_data",
          "data": {
            "image/png": "[encoded data removed]",
            "text/plain": [
              "<PIL.Image.Image image mode=L size=48x147 at 0x7FFB86AFCDD0>"
            ]
          },
          "metadata": {
            "tags": []
          }
        },
        {
          "output_type": "display_data",
          "data": {
            "image/png": "[encoded data removed]",
            "text/plain": [
              "<PIL.Image.Image image mode=L size=48x147 at 0x7FFB86A97650>"
            ]
          },
          "metadata": {
            "tags": []
          }
        },
        {
          "output_type": "display_data",
          "data": {
            "image/png": "[encoded data removed]",
            "text/plain": [
              "<PIL.Image.Image image mode=L size=100x149 at 0x7FFB86AFCDD0>"
            ]
          },
          "metadata": {
            "tags": []
          }
        },
        {
          "output_type": "display_data",
          "data": {
            "image/png": "[encoded data removed]",
            "text/plain": [
              "<PIL.Image.Image image mode=L size=16x117 at 0x7FFB86A97650>"
            ]
          },
          "metadata": {
            "tags": []
          }
        },
        {
          "output_type": "display_data",
          "data": {
            "image/png": "[encoded data removed]",
            "text/plain": [
              "<PIL.Image.Image image mode=L size=16x117 at 0x7FFB86AFCDD0>"
            ]
          },
          "metadata": {
            "tags": []
          }
        },
        {
          "output_type": "display_data",
          "data": {
            "image/png": "[encoded data removed]",
            "text/plain": [
              "<PIL.Image.Image image mode=L size=16x117 at 0x7FFB86A97650>"
            ]
          },
          "metadata": {
            "tags": []
          }
        },
        {
          "output_type": "display_data",
          "data": {
            "image/png": "[encoded data removed]",
            "text/plain": [
              "<PIL.Image.Image image mode=L size=16x117 at 0x7FFB86AFCDD0>"
            ]
          },
          "metadata": {
            "tags": []
          }
        },
        {
          "output_type": "display_data",
          "data": {
            "image/png": "[encoded data removed]",
            "text/plain": [
              "<PIL.Image.Image image mode=L size=16x117 at 0x7FFB86A97650>"
            ]
          },
          "metadata": {
            "tags": []
          }
        },
        {
          "output_type": "display_data",
          "data": {
            "image/png": "[encoded data removed]",
            "text/plain": [
              "<PIL.Image.Image image mode=L size=66x119 at 0x7FFB86AFCDD0>"
            ]
          },
          "metadata": {
            "tags": []
          }
        },
        {
          "output_type": "display_data",
          "data": {
            "image/png": "[encoded data removed]",
            "text/plain": [
              "<PIL.Image.Image image mode=L size=16x117 at 0x7FFB86A97650>"
            ]
          },
          "metadata": {
            "tags": []
          }
        },
        {
          "output_type": "display_data",
          "data": {
            "image/png": "[encoded data removed]",
            "text/plain": [
              "<PIL.Image.Image image mode=L size=18x117 at 0x7FFB86AFCDD0>"
            ]
          },
          "metadata": {
            "tags": []
          }
        },
        {
          "output_type": "display_data",
          "data": {
            "image/png": "[encoded data removed]",
            "text/plain": [
              "<PIL.Image.Image image mode=L size=70x151 at 0x7FFB86A97650>"
            ]
          },
          "metadata": {
            "tags": []
          }
        },
        {
          "output_type": "display_data",
          "data": {
            "image/png": "[encoded data removed]",
            "text/plain": [
              "<PIL.Image.Image image mode=L size=74x121 at 0x7FFB86AFCDD0>"
            ]
          },
          "metadata": {
            "tags": []
          }
        },
        {
          "output_type": "display_data",
          "data": {
            "image/png": "[encoded data removed]",
            "text/plain": [
              "<PIL.Image.Image image mode=L size=72x151 at 0x7FFB86A97650>"
            ]
          },
          "metadata": {
            "tags": []
          }
        },
        {
          "output_type": "display_data",
          "data": {
            "image/png": "[encoded data removed]",
            "text/plain": [
              "<PIL.Image.Image image mode=L size=66x119 at 0x7FFB86AFCDD0>"
            ]
          },
          "metadata": {
            "tags": []
          }
        },
        {
          "output_type": "display_data",
          "data": {
            "image/png": "[encoded data removed]",
            "text/plain": [
              "<PIL.Image.Image image mode=L size=66x119 at 0x7FFB86A97650>"
            ]
          },
          "metadata": {
            "tags": []
          }
        },
        {
          "output_type": "display_data",
          "data": {
            "image/png": "[encoded data removed]",
            "text/plain": [
              "<PIL.Image.Image image mode=L size=66x121 at 0x7FFB86AFCDD0>"
            ]
          },
          "metadata": {
            "tags": []
          }
        },
        {
          "output_type": "display_data",
          "data": {
            "image/png": "[encoded data removed]",
            "text/plain": [
              "<PIL.Image.Image image mode=L size=74x121 at 0x7FFB86A97650>"
            ]
          },
          "metadata": {
            "tags": []
          }
        },
        {
          "output_type": "display_data",
          "data": {
            "image/png": "[encoded data removed]",
            "text/plain": [
              "<PIL.Image.Image image mode=L size=108x119 at 0x7FFB86AFCDD0>"
            ]
          },
          "metadata": {
            "tags": []
          }
        },
        {
          "output_type": "display_data",
          "data": {
            "image/png": "[encoded data removed]",
            "text/plain": [
              "<PIL.Image.Image image mode=L size=44x119 at 0x7FFB86A97650>"
            ]
          },
          "metadata": {
            "tags": []
          }
        },
        {
          "output_type": "display_data",
          "data": {
            "image/png": "[encoded data removed]",
            "text/plain": [
              "<PIL.Image.Image image mode=L size=72x121 at 0x7FFB86AFCDD0>"
            ]
          },
          "metadata": {
            "tags": []
          }
        },
        {
          "output_type": "display_data",
          "data": {
            "image/png": "[encoded data removed]",
            "text/plain": [
              "<PIL.Image.Image image mode=L size=74x121 at 0x7FFB86A97650>"
            ]
          },
          "metadata": {
            "tags": []
          }
        },
        {
          "output_type": "display_data",
          "data": {
            "image/png": "[encoded data removed]",
            "text/plain": [
              "<PIL.Image.Image image mode=L size=40x143 at 0x7FFB86AFCDD0>"
            ]
          },
          "metadata": {
            "tags": []
          }
        },
        {
          "output_type": "display_data",
          "data": {
            "image/png": "[encoded data removed]",
            "text/plain": [
              "<PIL.Image.Image image mode=L size=16x145 at 0x7FFB86A97650>"
            ]
          },
          "metadata": {
            "tags": []
          }
        },
        {
          "output_type": "display_data",
          "data": {
            "image/png": "[encoded data removed]",
            "text/plain": [
              "<PIL.Image.Image image mode=L size=68x145 at 0x7FFB86AFCDD0>"
            ]
          },
          "metadata": {
            "tags": []
          }
        },
        {
          "output_type": "display_data",
          "data": {
            "image/png": "[encoded data removed]",
            "text/plain": [
              "<PIL.Image.Image image mode=L size=66x145 at 0x7FFB86A97650>"
            ]
          },
          "metadata": {
            "tags": []
          }
        },
        {
          "output_type": "display_data",
          "data": {
            "image/png": "[encoded data removed]",
            "text/plain": [
              "<PIL.Image.Image image mode=L size=16x145 at 0x7FFB86AFCDD0>"
            ]
          },
          "metadata": {
            "tags": []
          }
        },
        {
          "output_type": "display_data",
          "data": {
            "image/png": "[encoded data removed]",
            "text/plain": [
              "<PIL.Image.Image image mode=L size=74x147 at 0x7FFB86A97650>"
            ]
          },
          "metadata": {
            "tags": []
          }
        },
        {
          "output_type": "display_data",
          "data": {
            "image/png": "[encoded data removed]",
            "text/plain": [
              "<PIL.Image.Image image mode=L size=66x145 at 0x7FFB86AFCDD0>"
            ]
          },
          "metadata": {
            "tags": []
          }
        },
        {
          "output_type": "display_data",
          "data": {
            "image/png": "[encoded data removed]",
            "text/plain": [
              "<PIL.Image.Image image mode=L size=18x145 at 0x7FFB86A97650>"
            ]
          },
          "metadata": {
            "tags": []
          }
        },
        {
          "output_type": "display_data",
          "data": {
            "image/png": "[encoded data removed]",
            "text/plain": [
              "<PIL.Image.Image image mode=L size=66x119 at 0x7FFB86AFCDD0>"
            ]
          },
          "metadata": {
            "tags": []
          }
        },
        {
          "output_type": "display_data",
          "data": {
            "image/png": "[encoded data removed]",
            "text/plain": [
              "<PIL.Image.Image image mode=L size=16x117 at 0x7FFB86A97650>"
            ]
          },
          "metadata": {
            "tags": []
          }
        },
        {
          "output_type": "display_data",
          "data": {
            "image/png": "[encoded data removed]",
            "text/plain": [
              "<PIL.Image.Image image mode=L size=66x119 at 0x7FFB86AFCDD0>"
            ]
          },
          "metadata": {
            "tags": []
          }
        },
        {
          "output_type": "display_data",
          "data": {
            "image/png": "[encoded data removed]",
            "text/plain": [
              "<PIL.Image.Image image mode=L size=18x117 at 0x7FFB86A97650>"
            ]
          },
          "metadata": {
            "tags": []
          }
        },
        {
          "output_type": "display_data",
          "data": {
            "image/png": "[encoded data removed]",
            "text/plain": [
              "<PIL.Image.Image image mode=L size=16x117 at 0x7FFB86AFCDD0>"
            ]
          },
          "metadata": {
            "tags": []
          }
        },
        {
          "output_type": "display_data",
          "data": {
            "image/png": "[encoded data removed]",
            "text/plain": [
              "<PIL.Image.Image image mode=L size=73x149 at 0x7FFB86A97650>"
            ]
          },
          "metadata": {
            "tags": []
          }
        },
        {
          "output_type": "display_data",
          "data": {
            "image/png": "[encoded data removed]",
            "text/plain": [
              "<PIL.Image.Image image mode=L size=108x119 at 0x7FFB86AFCDD0>"
            ]
          },
          "metadata": {
            "tags": []
          }
        },
        {
          "output_type": "display_data",
          "data": {
            "image/png": "[encoded data removed]",
            "text/plain": [
              "<PIL.Image.Image image mode=L size=67x121 at 0x7FFB86A97650>"
            ]
          },
          "metadata": {
            "tags": []
          }
        },
        {
          "output_type": "display_data",
          "data": {
            "image/png": "[encoded data removed]",
            "text/plain": [
              "<PIL.Image.Image image mode=L size=76x121 at 0x7FFB86AFCDD0>"
            ]
          },
          "metadata": {
            "tags": []
          }
        },
        {
          "output_type": "display_data",
          "data": {
            "image/png": "[encoded data removed]",
            "text/plain": [
              "<PIL.Image.Image image mode=L size=46x119 at 0x7FFB86A97650>"
            ]
          },
          "metadata": {
            "tags": []
          }
        },
        {
          "output_type": "display_data",
          "data": {
            "image/png": "[encoded data removed]",
            "text/plain": [
              "<PIL.Image.Image image mode=L size=76x121 at 0x7FFB86AFCDD0>"
            ]
          },
          "metadata": {
            "tags": []
          }
        },
        {
          "output_type": "display_data",
          "data": {
            "image/png": "[encoded data removed]",
            "text/plain": [
              "<PIL.Image.Image image mode=L size=70x151 at 0x7FFB86A97650>"
            ]
          },
          "metadata": {
            "tags": []
          }
        },
        {
          "output_type": "display_data",
          "data": {
            "image/png": "[encoded data removed]",
            "text/plain": [
              "<PIL.Image.Image image mode=L size=74x121 at 0x7FFB86AFCDD0>"
            ]
          },
          "metadata": {
            "tags": []
          }
        },
        {
          "output_type": "display_data",
          "data": {
            "image/png": "[encoded data removed]",
            "text/plain": [
              "<PIL.Image.Image image mode=L size=71x151 at 0x7FFB86A97650>"
            ]
          },
          "metadata": {
            "tags": []
          }
        },
        {
          "output_type": "display_data",
          "data": {
            "image/png": "[encoded data removed]",
            "text/plain": [
              "<PIL.Image.Image image mode=L size=74x121 at 0x7FFB86AFCDD0>"
            ]
          },
          "metadata": {
            "tags": []
          }
        },
        {
          "output_type": "display_data",
          "data": {
            "image/png": "[encoded data removed]",
            "text/plain": [
              "<PIL.Image.Image image mode=L size=72x121 at 0x7FFB86A97650>"
            ]
          },
          "metadata": {
            "tags": []
          }
        },
        {
          "output_type": "display_data",
          "data": {
            "image/png": "[encoded data removed]",
            "text/plain": [
              "<PIL.Image.Image image mode=L size=67x121 at 0x7FFB86AFCDD0>"
            ]
          },
          "metadata": {
            "tags": []
          }
        },
        {
          "output_type": "display_data",
          "data": {
            "image/png": "[encoded data removed]",
            "text/plain": [
              "<PIL.Image.Image image mode=L size=66x119 at 0x7FFB86A97650>"
            ]
          },
          "metadata": {
            "tags": []
          }
        },
        {
          "output_type": "display_data",
          "data": {
            "image/png": "[encoded data removed]",
            "text/plain": [
              "<PIL.Image.Image image mode=L size=74x121 at 0x7FFB86AFCDD0>"
            ]
          },
          "metadata": {
            "tags": []
          }
        },
        {
          "output_type": "display_data",
          "data": {
            "image/png": "[encoded data removed]",
            "text/plain": [
              "<PIL.Image.Image image mode=L size=46x119 at 0x7FFB86A97650>"
            ]
          },
          "metadata": {
            "tags": []
          }
        },
        {
          "output_type": "display_data",
          "data": {
            "image/png": "[encoded data removed]",
            "text/plain": [
              "<PIL.Image.Image image mode=L size=40x143 at 0x7FFB86AFCDD0>"
            ]
          },
          "metadata": {
            "tags": []
          }
        },
        {
          "output_type": "display_data",
          "data": {
            "image/png": "[encoded data removed]",
            "text/plain": [
              "<PIL.Image.Image image mode=L size=42x143 at 0x7FFB86A97650>"
            ]
          },
          "metadata": {
            "tags": []
          }
        },
        {
          "output_type": "display_data",
          "data": {
            "image/png": "[encoded data removed]",
            "text/plain": [
              "<PIL.Image.Image image mode=L size=74x147 at 0x7FFB86AFCDD0>"
            ]
          },
          "metadata": {
            "tags": []
          }
        },
        {
          "output_type": "display_data",
          "data": {
            "image/png": "[encoded data removed]",
            "text/plain": [
              "<PIL.Image.Image image mode=L size=16x145 at 0x7FFB86A97650>"
            ]
          },
          "metadata": {
            "tags": []
          }
        },
        {
          "output_type": "display_data",
          "data": {
            "image/png": "[encoded data removed]",
            "text/plain": [
              "<PIL.Image.Image image mode=L size=66x145 at 0x7FFB86AFCDD0>"
            ]
          },
          "metadata": {
            "tags": []
          }
        },
        {
          "output_type": "display_data",
          "data": {
            "image/png": "[encoded data removed]",
            "text/plain": [
              "<PIL.Image.Image image mode=L size=66x145 at 0x7FFB86A97650>"
            ]
          },
          "metadata": {
            "tags": []
          }
        },
        {
          "output_type": "display_data",
          "data": {
            "image/png": "[encoded data removed]",
            "text/plain": [
              "<PIL.Image.Image image mode=L size=72x175 at 0x7FFB86AFCDD0>"
            ]
          },
          "metadata": {
            "tags": []
          }
        },
        {
          "output_type": "display_data",
          "data": {
            "image/png": "[encoded data removed]",
            "text/plain": [
              "<PIL.Image.Image image mode=L size=48x147 at 0x7FFB86A97650>"
            ]
          },
          "metadata": {
            "tags": []
          }
        },
        {
          "output_type": "display_data",
          "data": {
            "image/png": "[encoded data removed]",
            "text/plain": [
              "<PIL.Image.Image image mode=L size=16x117 at 0x7FFB86AFCDD0>"
            ]
          },
          "metadata": {
            "tags": []
          }
        },
        {
          "output_type": "display_data",
          "data": {
            "image/png": "[encoded data removed]",
            "text/plain": [
              "<PIL.Image.Image image mode=L size=16x117 at 0x7FFB86A97650>"
            ]
          },
          "metadata": {
            "tags": []
          }
        },
        {
          "output_type": "display_data",
          "data": {
            "image/png": "[encoded data removed]",
            "text/plain": [
              "<PIL.Image.Image image mode=L size=18x117 at 0x7FFB86AFCDD0>"
            ]
          },
          "metadata": {
            "tags": []
          }
        },
        {
          "output_type": "display_data",
          "data": {
            "image/png": "[encoded data removed]",
            "text/plain": [
              "<PIL.Image.Image image mode=L size=66x119 at 0x7FFB86A97650>"
            ]
          },
          "metadata": {
            "tags": []
          }
        },
        {
          "output_type": "display_data",
          "data": {
            "image/png": "[encoded data removed]",
            "text/plain": [
              "<PIL.Image.Image image mode=L size=66x119 at 0x7FFB86AFCDD0>"
            ]
          },
          "metadata": {
            "tags": []
          }
        },
        {
          "output_type": "display_data",
          "data": {
            "image/png": "[encoded data removed]",
            "text/plain": [
              "<PIL.Image.Image image mode=L size=16x117 at 0x7FFB86A97650>"
            ]
          },
          "metadata": {
            "tags": []
          }
        },
        {
          "output_type": "display_data",
          "data": {
            "image/png": "[encoded data removed]",
            "text/plain": [
              "<PIL.Image.Image image mode=L size=66x119 at 0x7FFB86AFCDD0>"
            ]
          },
          "metadata": {
            "tags": []
          }
        },
        {
          "output_type": "display_data",
          "data": {
            "image/png": "[encoded data removed]",
            "text/plain": [
              "<PIL.Image.Image image mode=L size=66x119 at 0x7FFB86A97650>"
            ]
          },
          "metadata": {
            "tags": []
          }
        },
        {
          "output_type": "display_data",
          "data": {
            "image/png": "[encoded data removed]",
            "text/plain": [
              "<PIL.Image.Image image mode=L size=74x121 at 0x7FFB86AFCDD0>"
            ]
          },
          "metadata": {
            "tags": []
          }
        },
        {
          "output_type": "display_data",
          "data": {
            "image/png": "[encoded data removed]",
            "text/plain": [
              "<PIL.Image.Image image mode=L size=66x119 at 0x7FFB86A97650>"
            ]
          },
          "metadata": {
            "tags": []
          }
        },
        {
          "output_type": "display_data",
          "data": {
            "image/png": "[encoded data removed]",
            "text/plain": [
              "<PIL.Image.Image image mode=L size=66x119 at 0x7FFB86AFCDD0>"
            ]
          },
          "metadata": {
            "tags": []
          }
        },
        {
          "output_type": "display_data",
          "data": {
            "image/png": "[encoded data removed]",
            "text/plain": [
              "<PIL.Image.Image image mode=L size=74x121 at 0x7FFB86A97650>"
            ]
          },
          "metadata": {
            "tags": []
          }
        },
        {
          "output_type": "display_data",
          "data": {
            "image/png": "[encoded data removed]",
            "text/plain": [
              "<PIL.Image.Image image mode=L size=68x121 at 0x7FFB86AFCDD0>"
            ]
          },
          "metadata": {
            "tags": []
          }
        },
        {
          "output_type": "display_data",
          "data": {
            "image/png": "[encoded data removed]",
            "text/plain": [
              "<PIL.Image.Image image mode=L size=72x121 at 0x7FFB86A97650>"
            ]
          },
          "metadata": {
            "tags": []
          }
        },
        {
          "output_type": "display_data",
          "data": {
            "image/png": "[encoded data removed]",
            "text/plain": [
              "<PIL.Image.Image image mode=L size=114x119 at 0x7FFB86AFCDD0>"
            ]
          },
          "metadata": {
            "tags": []
          }
        },
        {
          "output_type": "display_data",
          "data": {
            "image/png": "[encoded data removed]",
            "text/plain": [
              "<PIL.Image.Image image mode=L size=66x121 at 0x7FFB86A97650>"
            ]
          },
          "metadata": {
            "tags": []
          }
        },
        {
          "output_type": "display_data",
          "data": {
            "image/png": "[encoded data removed]",
            "text/plain": [
              "<PIL.Image.Image image mode=L size=66x119 at 0x7FFB86AFCDD0>"
            ]
          },
          "metadata": {
            "tags": []
          }
        },
        {
          "output_type": "display_data",
          "data": {
            "image/png": "[encoded data removed]",
            "text/plain": [
              "<PIL.Image.Image image mode=L size=74x121 at 0x7FFB86A97650>"
            ]
          },
          "metadata": {
            "tags": []
          }
        },
        {
          "output_type": "display_data",
          "data": {
            "image/png": "[encoded data removed]",
            "text/plain": [
              "<PIL.Image.Image image mode=L size=86x145 at 0x7FFB86AFCDD0>"
            ]
          },
          "metadata": {
            "tags": []
          }
        },
        {
          "output_type": "display_data",
          "data": {
            "image/png": "[encoded data removed]",
            "text/plain": [
              "<PIL.Image.Image image mode=L size=70x147 at 0x7FFB86A97650>"
            ]
          },
          "metadata": {
            "tags": []
          }
        },
        {
          "output_type": "display_data",
          "data": {
            "image/png": "[encoded data removed]",
            "text/plain": [
              "<PIL.Image.Image image mode=L size=16x145 at 0x7FFB86AFCDD0>"
            ]
          },
          "metadata": {
            "tags": []
          }
        },
        {
          "output_type": "display_data",
          "data": {
            "image/png": "[encoded data removed]",
            "text/plain": [
              "<PIL.Image.Image image mode=L size=72x147 at 0x7FFB86A97650>"
            ]
          },
          "metadata": {
            "tags": []
          }
        },
        {
          "output_type": "display_data",
          "data": {
            "image/png": "[encoded data removed]",
            "text/plain": [
              "<PIL.Image.Image image mode=L size=16x145 at 0x7FFB86AFCDD0>"
            ]
          },
          "metadata": {
            "tags": []
          }
        },
        {
          "output_type": "display_data",
          "data": {
            "image/png": "[encoded data removed]",
            "text/plain": [
              "<PIL.Image.Image image mode=L size=66x145 at 0x7FFB86A97650>"
            ]
          },
          "metadata": {
            "tags": []
          }
        },
        {
          "output_type": "display_data",
          "data": {
            "image/png": "[encoded data removed]",
            "text/plain": [
              "<PIL.Image.Image image mode=L size=73x117 at 0x7FFB86AFCDD0>"
            ]
          },
          "metadata": {
            "tags": []
          }
        },
        {
          "output_type": "display_data",
          "data": {
            "image/png": "[encoded data removed]",
            "text/plain": [
              "<PIL.Image.Image image mode=L size=16x117 at 0x7FFB86A97650>"
            ]
          },
          "metadata": {
            "tags": []
          }
        },
        {
          "output_type": "display_data",
          "data": {
            "image/png": "[encoded data removed]",
            "text/plain": [
              "<PIL.Image.Image image mode=L size=16x117 at 0x7FFB86AFCDD0>"
            ]
          },
          "metadata": {
            "tags": []
          }
        },
        {
          "output_type": "display_data",
          "data": {
            "image/png": "[encoded data removed]",
            "text/plain": [
              "<PIL.Image.Image image mode=L size=33x149 at 0x7FFB86A97650>"
            ]
          },
          "metadata": {
            "tags": []
          }
        },
        {
          "output_type": "display_data",
          "data": {
            "image/png": "[encoded data removed]",
            "text/plain": [
              "<PIL.Image.Image image mode=L size=18x117 at 0x7FFB86AFCDD0>"
            ]
          },
          "metadata": {
            "tags": []
          }
        },
        {
          "output_type": "display_data",
          "data": {
            "image/png": "[encoded data removed]",
            "text/plain": [
              "<PIL.Image.Image image mode=L size=16x117 at 0x7FFB86A97650>"
            ]
          },
          "metadata": {
            "tags": []
          }
        },
        {
          "output_type": "display_data",
          "data": {
            "image/png": "[encoded data removed]",
            "text/plain": [
              "<PIL.Image.Image image mode=L size=66x119 at 0x7FFB86AFCDD0>"
            ]
          },
          "metadata": {
            "tags": []
          }
        },
        {
          "output_type": "display_data",
          "data": {
            "image/png": "[encoded data removed]",
            "text/plain": [
              "<PIL.Image.Image image mode=L size=74x121 at 0x7FFB86A97650>"
            ]
          },
          "metadata": {
            "tags": []
          }
        },
        {
          "output_type": "display_data",
          "data": {
            "image/png": "[encoded data removed]",
            "text/plain": [
              "<PIL.Image.Image image mode=L size=74x121 at 0x7FFB86AFCDD0>"
            ]
          },
          "metadata": {
            "tags": []
          }
        },
        {
          "output_type": "display_data",
          "data": {
            "image/png": "[encoded data removed]",
            "text/plain": [
              "<PIL.Image.Image image mode=L size=46x119 at 0x7FFB86A97650>"
            ]
          },
          "metadata": {
            "tags": []
          }
        },
        {
          "output_type": "display_data",
          "data": {
            "image/png": "[encoded data removed]",
            "text/plain": [
              "<PIL.Image.Image image mode=L size=44x119 at 0x7FFB85CC0190>"
            ]
          },
          "metadata": {
            "tags": []
          }
        },
        {
          "output_type": "display_data",
          "data": {
            "image/png": "[encoded data removed]",
            "text/plain": [
              "<PIL.Image.Image image mode=L size=44x119 at 0x7FFB85CC03D0>"
            ]
          },
          "metadata": {
            "tags": []
          }
        },
        {
          "output_type": "display_data",
          "data": {
            "image/png": "[encoded data removed]",
            "text/plain": [
              "<PIL.Image.Image image mode=L size=74x121 at 0x7FFB85CC04D0>"
            ]
          },
          "metadata": {
            "tags": []
          }
        },
        {
          "output_type": "display_data",
          "data": {
            "image/png": "[encoded data removed]",
            "text/plain": [
              "<PIL.Image.Image image mode=L size=108x119 at 0x7FFB86AFCDD0>"
            ]
          },
          "metadata": {
            "tags": []
          }
        },
        {
          "output_type": "display_data",
          "data": {
            "image/png": "[encoded data removed]",
            "text/plain": [
              "<PIL.Image.Image image mode=L size=108x119 at 0x7FFB86A97650>"
            ]
          },
          "metadata": {
            "tags": []
          }
        },
        {
          "output_type": "display_data",
          "data": {
            "image/png": "[encoded data removed]",
            "text/plain": [
              "<PIL.Image.Image image mode=L size=74x121 at 0x7FFB86AFCDD0>"
            ]
          },
          "metadata": {
            "tags": []
          }
        },
        {
          "output_type": "display_data",
          "data": {
            "image/png": "[encoded data removed]",
            "text/plain": [
              "<PIL.Image.Image image mode=L size=68x121 at 0x7FFB86A97650>"
            ]
          },
          "metadata": {
            "tags": []
          }
        },
        {
          "output_type": "display_data",
          "data": {
            "image/png": "[encoded data removed]",
            "text/plain": [
              "<PIL.Image.Image image mode=L size=46x119 at 0x7FFB86AFCDD0>"
            ]
          },
          "metadata": {
            "tags": []
          }
        },
        {
          "output_type": "display_data",
          "data": {
            "image/png": "[encoded data removed]",
            "text/plain": [
              "<PIL.Image.Image image mode=L size=72x121 at 0x7FFB86A97650>"
            ]
          },
          "metadata": {
            "tags": []
          }
        },
        {
          "output_type": "display_data",
          "data": {
            "image/png": "[encoded data removed]",
            "text/plain": [
              "<PIL.Image.Image image mode=L size=72x149 at 0x7FFB86AFCDD0>"
            ]
          },
          "metadata": {
            "tags": []
          }
        },
        {
          "output_type": "display_data",
          "data": {
            "image/png": "[encoded data removed]",
            "text/plain": [
              "<PIL.Image.Image image mode=L size=68x121 at 0x7FFB86A97650>"
            ]
          },
          "metadata": {
            "tags": []
          }
        },
        {
          "output_type": "display_data",
          "data": {
            "image/png": "[encoded data removed]",
            "text/plain": [
              "<PIL.Image.Image image mode=L size=84x143 at 0x7FFB86AFCDD0>"
            ]
          },
          "metadata": {
            "tags": []
          }
        },
        {
          "output_type": "display_data",
          "data": {
            "image/png": "[encoded data removed]",
            "text/plain": [
              "<PIL.Image.Image image mode=L size=84x145 at 0x7FFB86A97650>"
            ]
          },
          "metadata": {
            "tags": []
          }
        },
        {
          "output_type": "display_data",
          "data": {
            "image/png": "[encoded data removed]",
            "text/plain": [
              "<PIL.Image.Image image mode=L size=66x145 at 0x7FFB86AFCDD0>"
            ]
          },
          "metadata": {
            "tags": []
          }
        },
        {
          "output_type": "display_data",
          "data": {
            "image/png": "[encoded data removed]",
            "text/plain": [
              "<PIL.Image.Image image mode=L size=74x147 at 0x7FFB86A97650>"
            ]
          },
          "metadata": {
            "tags": []
          }
        },
        {
          "output_type": "display_data",
          "data": {
            "image/png": "[encoded data removed]",
            "text/plain": [
              "<PIL.Image.Image image mode=L size=16x145 at 0x7FFB86AFCDD0>"
            ]
          },
          "metadata": {
            "tags": []
          }
        },
        {
          "output_type": "display_data",
          "data": {
            "image/png": "[encoded data removed]",
            "text/plain": [
              "<PIL.Image.Image image mode=L size=116x179 at 0x7FFB86A97650>"
            ]
          },
          "metadata": {
            "tags": []
          }
        },
        {
          "output_type": "display_data",
          "data": {
            "image/png": "[encoded data removed]",
            "text/plain": [
              "<PIL.Image.Image image mode=L size=66x119 at 0x7FFB86AFCDD0>"
            ]
          },
          "metadata": {
            "tags": []
          }
        },
        {
          "output_type": "display_data",
          "data": {
            "image/png": "[encoded data removed]",
            "text/plain": [
              "<PIL.Image.Image image mode=L size=66x119 at 0x7FFB86A97650>"
            ]
          },
          "metadata": {
            "tags": []
          }
        },
        {
          "output_type": "display_data",
          "data": {
            "image/png": "[encoded data removed]",
            "text/plain": [
              "<PIL.Image.Image image mode=L size=73x149 at 0x7FFB86AFCDD0>"
            ]
          },
          "metadata": {
            "tags": []
          }
        },
        {
          "output_type": "display_data",
          "data": {
            "image/png": "[encoded data removed]",
            "text/plain": [
              "<PIL.Image.Image image mode=L size=66x119 at 0x7FFB86A97650>"
            ]
          },
          "metadata": {
            "tags": []
          }
        },
        {
          "output_type": "display_data",
          "data": {
            "image/png": "[encoded data removed]",
            "text/plain": [
              "<PIL.Image.Image image mode=L size=16x117 at 0x7FFB86AFCDD0>"
            ]
          },
          "metadata": {
            "tags": []
          }
        },
        {
          "output_type": "display_data",
          "data": {
            "image/png": "[encoded data removed]",
            "text/plain": [
              "<PIL.Image.Image image mode=L size=108x119 at 0x7FFB86A97650>"
            ]
          },
          "metadata": {
            "tags": []
          }
        },
        {
          "output_type": "display_data",
          "data": {
            "image/png": "[encoded data removed]",
            "text/plain": [
              "<PIL.Image.Image image mode=L size=74x121 at 0x7FFB86AFCDD0>"
            ]
          },
          "metadata": {
            "tags": []
          }
        },
        {
          "output_type": "display_data",
          "data": {
            "image/png": "[encoded data removed]",
            "text/plain": [
              "<PIL.Image.Image image mode=L size=66x121 at 0x7FFB86A97650>"
            ]
          },
          "metadata": {
            "tags": []
          }
        },
        {
          "output_type": "display_data",
          "data": {
            "image/png": "[encoded data removed]",
            "text/plain": [
              "<PIL.Image.Image image mode=L size=44x119 at 0x7FFB86AFCDD0>"
            ]
          },
          "metadata": {
            "tags": []
          }
        },
        {
          "output_type": "display_data",
          "data": {
            "image/png": "[encoded data removed]",
            "text/plain": [
              "<PIL.Image.Image image mode=L size=74x121 at 0x7FFB86A97650>"
            ]
          },
          "metadata": {
            "tags": []
          }
        },
        {
          "output_type": "display_data",
          "data": {
            "image/png": "[encoded data removed]",
            "text/plain": [
              "<PIL.Image.Image image mode=L size=108x119 at 0x7FFB86AFCDD0>"
            ]
          },
          "metadata": {
            "tags": []
          }
        },
        {
          "output_type": "display_data",
          "data": {
            "image/png": "[encoded data removed]",
            "text/plain": [
              "<PIL.Image.Image image mode=L size=66x119 at 0x7FFB86A97650>"
            ]
          },
          "metadata": {
            "tags": []
          }
        },
        {
          "output_type": "display_data",
          "data": {
            "image/png": "[encoded data removed]",
            "text/plain": [
              "<PIL.Image.Image image mode=L size=44x119 at 0x7FFB86AFCDD0>"
            ]
          },
          "metadata": {
            "tags": []
          }
        },
        {
          "output_type": "display_data",
          "data": {
            "image/png": "[encoded data removed]",
            "text/plain": [
              "<PIL.Image.Image image mode=L size=72x149 at 0x7FFB86A97650>"
            ]
          },
          "metadata": {
            "tags": []
          }
        },
        {
          "output_type": "display_data",
          "data": {
            "image/png": "[encoded data removed]",
            "text/plain": [
              "<PIL.Image.Image image mode=L size=66x121 at 0x7FFB86AFCDD0>"
            ]
          },
          "metadata": {
            "tags": []
          }
        },
        {
          "output_type": "display_data",
          "data": {
            "image/png": "[encoded data removed]",
            "text/plain": [
              "<PIL.Image.Image image mode=L size=72x121 at 0x7FFB86A97650>"
            ]
          },
          "metadata": {
            "tags": []
          }
        },
        {
          "output_type": "display_data",
          "data": {
            "image/png": "[encoded data removed]",
            "text/plain": [
              "<PIL.Image.Image image mode=L size=66x119 at 0x7FFB86AFCDD0>"
            ]
          },
          "metadata": {
            "tags": []
          }
        },
        {
          "output_type": "display_data",
          "data": {
            "image/png": "[encoded data removed]",
            "text/plain": [
              "<PIL.Image.Image image mode=L size=44x119 at 0x7FFB86A97650>"
            ]
          },
          "metadata": {
            "tags": []
          }
        },
        {
          "output_type": "display_data",
          "data": {
            "image/png": "[encoded data removed]",
            "text/plain": [
              "<PIL.Image.Image image mode=L size=66x121 at 0x7FFB86AFCDD0>"
            ]
          },
          "metadata": {
            "tags": []
          }
        },
        {
          "output_type": "display_data",
          "data": {
            "image/png": "[encoded data removed]",
            "text/plain": [
              "<PIL.Image.Image image mode=L size=66x119 at 0x7FFB86A97650>"
            ]
          },
          "metadata": {
            "tags": []
          }
        },
        {
          "output_type": "display_data",
          "data": {
            "image/png": "[encoded data removed]",
            "text/plain": [
              "<PIL.Image.Image image mode=L size=74x121 at 0x7FFB86AFCDD0>"
            ]
          },
          "metadata": {
            "tags": []
          }
        },
        {
          "output_type": "display_data",
          "data": {
            "image/png": "[encoded data removed]",
            "text/plain": [
              "<PIL.Image.Image image mode=L size=67x121 at 0x7FFB86A97650>"
            ]
          },
          "metadata": {
            "tags": []
          }
        },
        {
          "output_type": "display_data",
          "data": {
            "image/png": "[encoded data removed]",
            "text/plain": [
              "<PIL.Image.Image image mode=L size=42x143 at 0x7FFB86AFCDD0>"
            ]
          },
          "metadata": {
            "tags": []
          }
        },
        {
          "output_type": "display_data",
          "data": {
            "image/png": "[encoded data removed]",
            "text/plain": [
              "<PIL.Image.Image image mode=L size=42x143 at 0x7FFB86A97650>"
            ]
          },
          "metadata": {
            "tags": []
          }
        },
        {
          "output_type": "display_data",
          "data": {
            "image/png": "[encoded data removed]",
            "text/plain": [
              "<PIL.Image.Image image mode=L size=74x147 at 0x7FFB86AFCDD0>"
            ]
          },
          "metadata": {
            "tags": []
          }
        },
        {
          "output_type": "display_data",
          "data": {
            "image/png": "[encoded data removed]",
            "text/plain": [
              "<PIL.Image.Image image mode=L size=68x145 at 0x7FFB86A97650>"
            ]
          },
          "metadata": {
            "tags": []
          }
        },
        {
          "output_type": "display_data",
          "data": {
            "image/png": "[encoded data removed]",
            "text/plain": [
              "<PIL.Image.Image image mode=L size=66x145 at 0x7FFB86AFCDD0>"
            ]
          },
          "metadata": {
            "tags": []
          }
        },
        {
          "output_type": "display_data",
          "data": {
            "image/png": "[encoded data removed]",
            "text/plain": [
              "<PIL.Image.Image image mode=L size=16x145 at 0x7FFB86A97650>"
            ]
          },
          "metadata": {
            "tags": []
          }
        },
        {
          "output_type": "display_data",
          "data": {
            "image/png": "[encoded data removed]",
            "text/plain": [
              "<PIL.Image.Image image mode=L size=66x119 at 0x7FFB86AFCDD0>"
            ]
          },
          "metadata": {
            "tags": []
          }
        },
        {
          "output_type": "display_data",
          "data": {
            "image/png": "[encoded data removed]",
            "text/plain": [
              "<PIL.Image.Image image mode=L size=18x117 at 0x7FFB86A97650>"
            ]
          },
          "metadata": {
            "tags": []
          }
        },
        {
          "output_type": "display_data",
          "data": {
            "image/png": "[encoded data removed]",
            "text/plain": [
              "<PIL.Image.Image image mode=L size=16x117 at 0x7FFB86AFCDD0>"
            ]
          },
          "metadata": {
            "tags": []
          }
        },
        {
          "output_type": "display_data",
          "data": {
            "image/png": "[encoded data removed]",
            "text/plain": [
              "<PIL.Image.Image image mode=L size=72x149 at 0x7FFB86A97650>"
            ]
          },
          "metadata": {
            "tags": []
          }
        },
        {
          "output_type": "display_data",
          "data": {
            "image/png": "[encoded data removed]",
            "text/plain": [
              "<PIL.Image.Image image mode=L size=46x119 at 0x7FFB86AFCDD0>"
            ]
          },
          "metadata": {
            "tags": []
          }
        },
        {
          "output_type": "display_data",
          "data": {
            "image/png": "[encoded data removed]",
            "text/plain": [
              "<PIL.Image.Image image mode=L size=74x121 at 0x7FFB86A97650>"
            ]
          },
          "metadata": {
            "tags": []
          }
        },
        {
          "output_type": "display_data",
          "data": {
            "image/png": "[encoded data removed]",
            "text/plain": [
              "<PIL.Image.Image image mode=L size=66x119 at 0x7FFB86AFCDD0>"
            ]
          },
          "metadata": {
            "tags": []
          }
        },
        {
          "output_type": "display_data",
          "data": {
            "image/png": "[encoded data removed]",
            "text/plain": [
              "<PIL.Image.Image image mode=L size=76x121 at 0x7FFB86A97650>"
            ]
          },
          "metadata": {
            "tags": []
          }
        },
        {
          "output_type": "display_data",
          "data": {
            "image/png": "[encoded data removed]",
            "text/plain": [
              "<PIL.Image.Image image mode=L size=67x121 at 0x7FFB86AFCDD0>"
            ]
          },
          "metadata": {
            "tags": []
          }
        },
        {
          "output_type": "display_data",
          "data": {
            "image/png": "[encoded data removed]",
            "text/plain": [
              "<PIL.Image.Image image mode=L size=68x121 at 0x7FFB86A97650>"
            ]
          },
          "metadata": {
            "tags": []
          }
        },
        {
          "output_type": "display_data",
          "data": {
            "image/png": "[encoded data removed]",
            "text/plain": [
              "<PIL.Image.Image image mode=L size=46x119 at 0x7FFB86AFCDD0>"
            ]
          },
          "metadata": {
            "tags": []
          }
        },
        {
          "output_type": "display_data",
          "data": {
            "image/png": "[encoded data removed]",
            "text/plain": [
              "<PIL.Image.Image image mode=L size=72x151 at 0x7FFB86A97650>"
            ]
          },
          "metadata": {
            "tags": []
          }
        },
        {
          "output_type": "display_data",
          "data": {
            "image/png": "[encoded data removed]",
            "text/plain": [
              "<PIL.Image.Image image mode=L size=46x119 at 0x7FFB86AFCDD0>"
            ]
          },
          "metadata": {
            "tags": []
          }
        },
        {
          "output_type": "display_data",
          "data": {
            "image/png": "[encoded data removed]",
            "text/plain": [
              "<PIL.Image.Image image mode=L size=76x121 at 0x7FFB86A97650>"
            ]
          },
          "metadata": {
            "tags": []
          }
        },
        {
          "output_type": "display_data",
          "data": {
            "image/png": "[encoded data removed]",
            "text/plain": [
              "<PIL.Image.Image image mode=L size=74x147 at 0x7FFB86AFCDD0>"
            ]
          },
          "metadata": {
            "tags": []
          }
        },
        {
          "output_type": "display_data",
          "data": {
            "image/png": "[encoded data removed]",
            "text/plain": [
              "<PIL.Image.Image image mode=L size=86x145 at 0x7FFB86A97650>"
            ]
          },
          "metadata": {
            "tags": []
          }
        },
        {
          "output_type": "display_data",
          "data": {
            "image/png": "[encoded data removed]",
            "text/plain": [
              "<PIL.Image.Image image mode=L size=16x145 at 0x7FFB86AFCDD0>"
            ]
          },
          "metadata": {
            "tags": []
          }
        },
        {
          "output_type": "display_data",
          "data": {
            "image/png": "[encoded data removed]",
            "text/plain": [
              "<PIL.Image.Image image mode=L size=88x149 at 0x7FFB86A97650>"
            ]
          },
          "metadata": {
            "tags": []
          }
        },
        {
          "output_type": "display_data",
          "data": {
            "image/png": "[encoded data removed]",
            "text/plain": [
              "<PIL.Image.Image image mode=L size=48x147 at 0x7FFB86AFCDD0>"
            ]
          },
          "metadata": {
            "tags": []
          }
        },
        {
          "output_type": "display_data",
          "data": {
            "image/png": "[encoded data removed]",
            "text/plain": [
              "<PIL.Image.Image image mode=L size=100x149 at 0x7FFB86A97650>"
            ]
          },
          "metadata": {
            "tags": []
          }
        }
      ]
    },
    {
      "cell_type": "markdown",
      "metadata": {
        "id": "CyfAQeVz73Du"
      },
      "source": [
        "### Skeletonize Moments"
      ]
    },
    {
      "cell_type": "code",
      "metadata": {
        "id": "xtUaBL7A3pZJ",
        "colab": {
          "base_uri": "https://localhost:8080/",
          "height": 395
        },
        "outputId": "f4db1f83-3c7a-44ef-d419-a44b0d889ac5"
      },
      "source": [
        "lett = img_in_label(147, 1)\r\n",
        "special_lett = img_in_label(307, 2)\r\n",
        "print(\"First letter: english \\'p\\'\")\r\n",
        "cv2_imshow(lett)\r\n",
        "print(\"Second letter: icelandic special\")\r\n",
        "cv2_imshow(special_lett)\r\n",
        "print(\"Moments difference: \", ft_comp(find_moments(lett), find_moments(special_lett)))"
      ],
      "execution_count": 37,
      "outputs": [
        {
          "output_type": "stream",
          "text": [
            "First letter: english 'p'\n"
          ],
          "name": "stdout"
        },
        {
          "output_type": "display_data",
          "data": {
            "image/png": "[encoded data removed]",
            "text/plain": [
              "<PIL.Image.Image image mode=L size=78x145 at 0x7FFB85CEA710>"
            ]
          },
          "metadata": {
            "tags": []
          }
        },
        {
          "output_type": "stream",
          "text": [
            "Second letter: icelandic special\n"
          ],
          "name": "stdout"
        },
        {
          "output_type": "display_data",
          "data": {
            "image/png": "[encoded data removed]",
            "text/plain": [
              "<PIL.Image.Image image mode=L size=72x183 at 0x7FFB85CEA890>"
            ]
          },
          "metadata": {
            "tags": []
          }
        },
        {
          "output_type": "stream",
          "text": [
            "Moments difference:  1.366909770418267e-08\n"
          ],
          "name": "stdout"
        }
      ]
    },
    {
      "cell_type": "code",
      "metadata": {
        "id": "7ct_ueWy5Iqd",
        "colab": {
          "base_uri": "https://localhost:8080/",
          "height": 302
        },
        "outputId": "d1064912-099c-4834-8760-b1e51dbf1fde"
      },
      "source": [
        "lett = skeletonize(to_bin_01(img_in_label(147, 1)))\r\n",
        "special_lett = skeletonize(to_bin_01(img_in_label(307, 2)))\r\n",
        "print(\"First letter Skeleton: english \\'p\\'\")\r\n",
        "plt.imshow(reverse_bin(lett), cmap='gray')"
      ],
      "execution_count": 38,
      "outputs": [
        {
          "output_type": "stream",
          "text": [
            "First letter Skeleton: english 'p'\n"
          ],
          "name": "stdout"
        },
        {
          "output_type": "execute_result",
          "data": {
            "text/plain": [
              "<matplotlib.image.AxesImage at 0x7ffb8444d0d0>"
            ]
          },
          "metadata": {
            "tags": []
          },
          "execution_count": 38
        },
        {
          "output_type": "display_data",
          "data": {
            "image/png": "[encoded data removed]",
            "text/plain": [
              "<Figure size 432x288 with 1 Axes>"
            ]
          },
          "metadata": {
            "tags": [],
            "needs_background": "light"
          }
        }
      ]
    },
    {
      "cell_type": "code",
      "metadata": {
        "id": "PE4BfRXy6Ae6",
        "colab": {
          "base_uri": "https://localhost:8080/",
          "height": 302
        },
        "outputId": "0951e8c3-e9d7-470f-e3c9-63de85fe219c"
      },
      "source": [
        "print(\"Second letter Skeleton: icelandic special\")\r\n",
        "plt.imshow(reverse_bin(special_lett), cmap='gray')"
      ],
      "execution_count": 39,
      "outputs": [
        {
          "output_type": "stream",
          "text": [
            "Second letter Skeleton: icelandic special\n"
          ],
          "name": "stdout"
        },
        {
          "output_type": "execute_result",
          "data": {
            "text/plain": [
              "<matplotlib.image.AxesImage at 0x7ffb8442c410>"
            ]
          },
          "metadata": {
            "tags": []
          },
          "execution_count": 39
        },
        {
          "output_type": "display_data",
          "data": {
            "image/png": "[encoded data removed]",
            "text/plain": [
              "<Figure size 432x288 with 1 Axes>"
            ]
          },
          "metadata": {
            "tags": [],
            "needs_background": "light"
          }
        }
      ]
    },
    {
      "cell_type": "code",
      "metadata": {
        "id": "d9iB9yGd6bqb",
        "colab": {
          "base_uri": "https://localhost:8080/"
        },
        "outputId": "71d894a0-6b9c-4fb9-d809-fd3c760484d4"
      },
      "source": [
        "print(\"Moments difference: \", ft_comp(find_moments(reverse_bin(lett)), find_moments(reverse_bin(special_lett))))"
      ],
      "execution_count": 40,
      "outputs": [
        {
          "output_type": "stream",
          "text": [
            "Moments difference:  25.05443477162987\n"
          ],
          "name": "stdout"
        }
      ]
    },
    {
      "cell_type": "markdown",
      "metadata": {
        "id": "2DNJWBDy79Vp"
      },
      "source": [
        "### How Does Special Region looks loke?"
      ]
    },
    {
      "cell_type": "code",
      "metadata": {
        "id": "KoWgi2y578mJ",
        "colab": {
          "base_uri": "https://localhost:8080/",
          "height": 226
        },
        "outputId": "bb441783-d310-4ad9-f512-e36bc910b5f6"
      },
      "source": [
        "lett = img_in_label(320)\r\n",
        "lett_special_region = top_pxl(lett, 35)\r\n",
        "print(\"Original letter:\")\r\n",
        "cv2_imshow(lett)\r\n",
        "print(\"The letter special region:\")\r\n",
        "cv2_imshow(lett_special_region)"
      ],
      "execution_count": 41,
      "outputs": [
        {
          "output_type": "stream",
          "text": [
            "Original letter:\n"
          ],
          "name": "stdout"
        },
        {
          "output_type": "display_data",
          "data": {
            "image/png": "[encoded data removed]",
            "text/plain": [
              "<PIL.Image.Image image mode=L size=111x141 at 0x7FFB843DF4D0>"
            ]
          },
          "metadata": {
            "tags": []
          }
        },
        {
          "output_type": "stream",
          "text": [
            "The letter special region:\n"
          ],
          "name": "stdout"
        },
        {
          "output_type": "display_data",
          "data": {
            "image/png": "[encoded data removed]",
            "text/plain": [
              "<PIL.Image.Image image mode=L size=111x35 at 0x7FFB8442CA10>"
            ]
          },
          "metadata": {
            "tags": []
          }
        }
      ]
    },
    {
      "cell_type": "markdown",
      "metadata": {
        "id": "chg95RwcPf9_"
      },
      "source": [
        "## Operation Instruction\r\n",
        "1. Open the notebook in Google Colab.\r\n",
        "2. Mount Drive - The reading part is based on getting the images in a separate directory for each language. If you change the hierarchy, please keep each language in a separate directory. The order you need as we submitted:ICBV211-123362-Images_ICBV/ICBV211-123362-DatasetForTrain for data set to load.\r\n",
        "3. Example - load image locally to the notebook. Examples can be found in ICBV211-123362-Images_ICBV/ICBV211-123362-english or ICBV211-123362-Images_ICBV/ICBV211-123362-german or ICBV211-123362-Images_ICBV/ICBV211-123362-iceland there are images for test language recognition.\r\n",
        "\r\n",
        "4. Run all cells.\r\n",
        "\r\n",
        "5. Calculating the Language - In this cell we can see the result of our language.\r\n"
      ]
    }
  ]
}
